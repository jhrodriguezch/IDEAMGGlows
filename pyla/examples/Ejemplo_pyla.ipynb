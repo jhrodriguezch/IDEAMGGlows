{
  "nbformat": 4,
  "nbformat_minor": 0,
  "metadata": {
    "colab": {
      "provenance": []
    },
    "kernelspec": {
      "name": "python3",
      "display_name": "Python 3"
    },
    "language_info": {
      "name": "python"
    }
  },
  "cells": [
    {
      "cell_type": "markdown",
      "source": [
        "## PYLA --- Ejemplo de uso ---\n",
        "En este archivo se presenta el ejemplo de ejecución de la herramienta desarrollada en el entorno de Google collaboratory."
      ],
      "metadata": {
        "id": "W5cScWlTjaPt"
      }
    },
    {
      "cell_type": "code",
      "source": [
        "!pip install geoglows \n",
        "! git clone https://github.com/jhrodriguezch/IDEAMGGlows.git\n",
        "import sys\n",
        "sys.path.insert(1, './IDEAMGGlows/pyla')"
      ],
      "metadata": {
        "colab": {
          "base_uri": "https://localhost:8080/"
        },
        "id": "lJPHXQE3xBbV",
        "outputId": "c4a1ccc3-3b5d-4747-da23-aac97914b9df"
      },
      "execution_count": 77,
      "outputs": [
        {
          "output_type": "stream",
          "name": "stdout",
          "text": [
            "Looking in indexes: https://pypi.org/simple, https://us-python.pkg.dev/colab-wheels/public/simple/\n",
            "Requirement already satisfied: geoglows in /usr/local/lib/python3.8/dist-packages (0.27.0)\n",
            "Requirement already satisfied: hydrostats in /usr/local/lib/python3.8/dist-packages (from geoglows) (0.78)\n",
            "Requirement already satisfied: plotly>=4.6 in /usr/local/lib/python3.8/dist-packages (from geoglows) (5.5.0)\n",
            "Requirement already satisfied: scipy in /usr/local/lib/python3.8/dist-packages (from geoglows) (1.7.3)\n",
            "Requirement already satisfied: jinja2 in /usr/local/lib/python3.8/dist-packages (from geoglows) (2.11.3)\n",
            "Requirement already satisfied: shapely in /usr/local/lib/python3.8/dist-packages (from geoglows) (2.0.0)\n",
            "Requirement already satisfied: numpy in /usr/local/lib/python3.8/dist-packages (from geoglows) (1.21.6)\n",
            "Requirement already satisfied: pandas in /usr/local/lib/python3.8/dist-packages (from geoglows) (1.3.5)\n",
            "Requirement already satisfied: requests in /usr/local/lib/python3.8/dist-packages (from geoglows) (2.23.0)\n",
            "Requirement already satisfied: HydroErr in /usr/local/lib/python3.8/dist-packages (from geoglows) (1.24)\n",
            "Requirement already satisfied: tenacity>=6.2.0 in /usr/local/lib/python3.8/dist-packages (from plotly>=4.6->geoglows) (8.1.0)\n",
            "Requirement already satisfied: six in /usr/local/lib/python3.8/dist-packages (from plotly>=4.6->geoglows) (1.15.0)\n",
            "Requirement already satisfied: matplotlib in /usr/local/lib/python3.8/dist-packages (from hydrostats->geoglows) (3.2.2)\n",
            "Requirement already satisfied: numba in /usr/local/lib/python3.8/dist-packages (from hydrostats->geoglows) (0.56.4)\n",
            "Requirement already satisfied: MarkupSafe>=0.23 in /usr/local/lib/python3.8/dist-packages (from jinja2->geoglows) (2.0.1)\n",
            "Requirement already satisfied: pyparsing!=2.0.4,!=2.1.2,!=2.1.6,>=2.0.1 in /usr/local/lib/python3.8/dist-packages (from matplotlib->hydrostats->geoglows) (3.0.9)\n",
            "Requirement already satisfied: python-dateutil>=2.1 in /usr/local/lib/python3.8/dist-packages (from matplotlib->hydrostats->geoglows) (2.8.2)\n",
            "Requirement already satisfied: cycler>=0.10 in /usr/local/lib/python3.8/dist-packages (from matplotlib->hydrostats->geoglows) (0.11.0)\n",
            "Requirement already satisfied: kiwisolver>=1.0.1 in /usr/local/lib/python3.8/dist-packages (from matplotlib->hydrostats->geoglows) (1.4.4)\n",
            "Requirement already satisfied: importlib-metadata in /usr/local/lib/python3.8/dist-packages (from numba->hydrostats->geoglows) (5.1.0)\n",
            "Requirement already satisfied: llvmlite<0.40,>=0.39.0dev0 in /usr/local/lib/python3.8/dist-packages (from numba->hydrostats->geoglows) (0.39.1)\n",
            "Requirement already satisfied: setuptools in /usr/local/lib/python3.8/dist-packages (from numba->hydrostats->geoglows) (57.4.0)\n",
            "Requirement already satisfied: zipp>=0.5 in /usr/local/lib/python3.8/dist-packages (from importlib-metadata->numba->hydrostats->geoglows) (3.11.0)\n",
            "Requirement already satisfied: pytz>=2017.3 in /usr/local/lib/python3.8/dist-packages (from pandas->geoglows) (2022.6)\n",
            "Requirement already satisfied: certifi>=2017.4.17 in /usr/local/lib/python3.8/dist-packages (from requests->geoglows) (2022.12.7)\n",
            "Requirement already satisfied: idna<3,>=2.5 in /usr/local/lib/python3.8/dist-packages (from requests->geoglows) (2.10)\n",
            "Requirement already satisfied: chardet<4,>=3.0.2 in /usr/local/lib/python3.8/dist-packages (from requests->geoglows) (3.0.4)\n",
            "Requirement already satisfied: urllib3!=1.25.0,!=1.25.1,<1.26,>=1.21.1 in /usr/local/lib/python3.8/dist-packages (from requests->geoglows) (1.24.3)\n",
            "fatal: destination path 'IDEAMGGlows' already exists and is not an empty directory.\n"
          ]
        }
      ]
    },
    {
      "cell_type": "markdown",
      "source": [
        "**PASO 1** - Importar la herramienta desarrollada y los datos asociados. En el caso que se de un valor erroneo, se generara un resultado vacio."
      ],
      "metadata": {
        "id": "VbCA5is27AGZ"
      }
    },
    {
      "cell_type": "code",
      "source": [
        "import pyla"
      ],
      "metadata": {
        "id": "S137qc8u26Hh"
      },
      "execution_count": 78,
      "outputs": []
    },
    {
      "cell_type": "markdown",
      "source": [
        "**Paso 1.1.** Actualizar los directorios en los cuales se encuentran las bases de datos. De la misma manera se pueden cambiar las variables mostradas, dependiendo de los servicios donde se encuentre esta información."
      ],
      "metadata": {
        "id": "2LWxPGxX5RJK"
      }
    },
    {
      "cell_type": "code",
      "source": [
        "pyla.const.CONST['GEOJSON FILE']     = r'/content/IDEAMGGlows/pyla/static/IDEAM_Stations_v2.json'\n",
        "pyla.const.CONST['PROFILE DATABASE'] = r'/content/IDEAMGGlows/pyla/static/profiles_db.json'\n",
        "pyla.const.CONST"
      ],
      "metadata": {
        "colab": {
          "base_uri": "https://localhost:8080/"
        },
        "id": "ZbmwuCng5bJM",
        "outputId": "ac13f785-7029-4917-fe26-8479c84f03e7"
      },
      "execution_count": 79,
      "outputs": [
        {
          "output_type": "execute_result",
          "data": {
            "text/plain": [
              "{'HYDROSHARE URL': 'https://www.hydroshare.org/resource/b0b5aaabd29c48bd8c5261c128f4762a/data/contents/',\n",
              " 'HYDROSHARE DATE COLUMN NAME': 'Datetime',\n",
              " 'HYDROSHARE FORMAT DATE': '%Y-%m-%d',\n",
              " 'FEWS URL ESTACIONES': 'http://fews.ideam.gov.co/colombia/data/ReporteTablaEstaciones.csv',\n",
              " 'FEWS COLUMN NAME ESTACIONES': 'id',\n",
              " 'FEWS URL SERIES': 'http://fews.ideam.gov.co/colombia/jsonH',\n",
              " 'GEOJSON FILE': '/content/IDEAMGGlows/pyla/static/IDEAM_Stations_v2.json',\n",
              " 'GEOJSON COLUMNS TO EXTRACT': ['new_COMID'],\n",
              " 'PROFILE DATABASE': '/content/IDEAMGGlows/pyla/static/profiles_db.json',\n",
              " 'UTC': 5}"
            ]
          },
          "metadata": {},
          "execution_count": 79
        }
      ]
    },
    {
      "cell_type": "markdown",
      "source": [
        "**Paso 1.2** : Definir el código de estación a utilizar."
      ],
      "metadata": {
        "id": "dbaqAW4V1bcK"
      }
    },
    {
      "cell_type": "code",
      "source": [
        "codigo_estacion = '44037040'\n",
        "codigo_estacion"
      ],
      "metadata": {
        "colab": {
          "base_uri": "https://localhost:8080/",
          "height": 35
        },
        "id": "glDwA0LQvlj3",
        "outputId": "8243f392-be16-4ad7-9833-4bb14d98c39b"
      },
      "execution_count": 80,
      "outputs": [
        {
          "output_type": "execute_result",
          "data": {
            "text/plain": [
              "'44037040'"
            ],
            "application/vnd.google.colaboratory.intrinsic+json": {
              "type": "string"
            }
          },
          "metadata": {},
          "execution_count": 80
        }
      ]
    },
    {
      "cell_type": "markdown",
      "source": [
        "**Paso 1.3** : Obtener el comid del río asociado a la estación de trabajo"
      ],
      "metadata": {
        "id": "bLOyRJ4E1yal"
      }
    },
    {
      "cell_type": "code",
      "source": [
        "comid, comid_oob                  = pyla.get_comit_from_station(ID = codigo_estacion)\n",
        "comid"
      ],
      "metadata": {
        "colab": {
          "base_uri": "https://localhost:8080/",
          "height": 53
        },
        "id": "EsspoMMXxSed",
        "outputId": "3f5a60a1-f6d5-4123-cdf0-e8321bb30bb1"
      },
      "execution_count": 81,
      "outputs": [
        {
          "output_type": "stream",
          "name": "stdout",
          "text": [
            "Function: get_comit_from_station(), Delay: 1.2371275424957275 seg.\n"
          ]
        },
        {
          "output_type": "execute_result",
          "data": {
            "text/plain": [
              "'9018513'"
            ],
            "application/vnd.google.colaboratory.intrinsic+json": {
              "type": "string"
            }
          },
          "metadata": {},
          "execution_count": 81
        }
      ]
    },
    {
      "cell_type": "markdown",
      "source": [
        "**Paso 1.4**: Obtención de la serie histórica observada"
      ],
      "metadata": {
        "id": "-Vp6mxYm5_f3"
      }
    },
    {
      "cell_type": "code",
      "source": [
        "serie_hist_observada, serie_hist_observada_oob = pyla.get_historical_data(codigo_estacion)\n",
        "serie_hist_observada"
      ],
      "metadata": {
        "colab": {
          "base_uri": "https://localhost:8080/",
          "height": 472
        },
        "id": "_X0xxrs4xZdV",
        "outputId": "1c07cf08-e9f9-4b97-d8d7-f28ef31931a3"
      },
      "execution_count": 82,
      "outputs": [
        {
          "output_type": "stream",
          "name": "stdout",
          "text": [
            "Function: get_historical_data(), Delay: 8.675215005874634 seg.\n"
          ]
        },
        {
          "output_type": "execute_result",
          "data": {
            "text/plain": [
              "               data\n",
              "date               \n",
              "1964-09-01   97.000\n",
              "1964-09-02   94.000\n",
              "1964-09-03  100.000\n",
              "1964-09-04  116.000\n",
              "1964-09-05   96.000\n",
              "...             ...\n",
              "2021-09-26   18.125\n",
              "2021-09-27   18.875\n",
              "2021-09-28   19.125\n",
              "2021-09-29   21.250\n",
              "2021-09-30   35.000\n",
              "\n",
              "[20849 rows x 1 columns]"
            ],
            "text/html": [
              "\n",
              "  <div id=\"df-1cf6c182-4dfb-413f-bfe4-052130f9c586\">\n",
              "    <div class=\"colab-df-container\">\n",
              "      <div>\n",
              "<style scoped>\n",
              "    .dataframe tbody tr th:only-of-type {\n",
              "        vertical-align: middle;\n",
              "    }\n",
              "\n",
              "    .dataframe tbody tr th {\n",
              "        vertical-align: top;\n",
              "    }\n",
              "\n",
              "    .dataframe thead th {\n",
              "        text-align: right;\n",
              "    }\n",
              "</style>\n",
              "<table border=\"1\" class=\"dataframe\">\n",
              "  <thead>\n",
              "    <tr style=\"text-align: right;\">\n",
              "      <th></th>\n",
              "      <th>data</th>\n",
              "    </tr>\n",
              "    <tr>\n",
              "      <th>date</th>\n",
              "      <th></th>\n",
              "    </tr>\n",
              "  </thead>\n",
              "  <tbody>\n",
              "    <tr>\n",
              "      <th>1964-09-01</th>\n",
              "      <td>97.000</td>\n",
              "    </tr>\n",
              "    <tr>\n",
              "      <th>1964-09-02</th>\n",
              "      <td>94.000</td>\n",
              "    </tr>\n",
              "    <tr>\n",
              "      <th>1964-09-03</th>\n",
              "      <td>100.000</td>\n",
              "    </tr>\n",
              "    <tr>\n",
              "      <th>1964-09-04</th>\n",
              "      <td>116.000</td>\n",
              "    </tr>\n",
              "    <tr>\n",
              "      <th>1964-09-05</th>\n",
              "      <td>96.000</td>\n",
              "    </tr>\n",
              "    <tr>\n",
              "      <th>...</th>\n",
              "      <td>...</td>\n",
              "    </tr>\n",
              "    <tr>\n",
              "      <th>2021-09-26</th>\n",
              "      <td>18.125</td>\n",
              "    </tr>\n",
              "    <tr>\n",
              "      <th>2021-09-27</th>\n",
              "      <td>18.875</td>\n",
              "    </tr>\n",
              "    <tr>\n",
              "      <th>2021-09-28</th>\n",
              "      <td>19.125</td>\n",
              "    </tr>\n",
              "    <tr>\n",
              "      <th>2021-09-29</th>\n",
              "      <td>21.250</td>\n",
              "    </tr>\n",
              "    <tr>\n",
              "      <th>2021-09-30</th>\n",
              "      <td>35.000</td>\n",
              "    </tr>\n",
              "  </tbody>\n",
              "</table>\n",
              "<p>20849 rows × 1 columns</p>\n",
              "</div>\n",
              "      <button class=\"colab-df-convert\" onclick=\"convertToInteractive('df-1cf6c182-4dfb-413f-bfe4-052130f9c586')\"\n",
              "              title=\"Convert this dataframe to an interactive table.\"\n",
              "              style=\"display:none;\">\n",
              "        \n",
              "  <svg xmlns=\"http://www.w3.org/2000/svg\" height=\"24px\"viewBox=\"0 0 24 24\"\n",
              "       width=\"24px\">\n",
              "    <path d=\"M0 0h24v24H0V0z\" fill=\"none\"/>\n",
              "    <path d=\"M18.56 5.44l.94 2.06.94-2.06 2.06-.94-2.06-.94-.94-2.06-.94 2.06-2.06.94zm-11 1L8.5 8.5l.94-2.06 2.06-.94-2.06-.94L8.5 2.5l-.94 2.06-2.06.94zm10 10l.94 2.06.94-2.06 2.06-.94-2.06-.94-.94-2.06-.94 2.06-2.06.94z\"/><path d=\"M17.41 7.96l-1.37-1.37c-.4-.4-.92-.59-1.43-.59-.52 0-1.04.2-1.43.59L10.3 9.45l-7.72 7.72c-.78.78-.78 2.05 0 2.83L4 21.41c.39.39.9.59 1.41.59.51 0 1.02-.2 1.41-.59l7.78-7.78 2.81-2.81c.8-.78.8-2.07 0-2.86zM5.41 20L4 18.59l7.72-7.72 1.47 1.35L5.41 20z\"/>\n",
              "  </svg>\n",
              "      </button>\n",
              "      \n",
              "  <style>\n",
              "    .colab-df-container {\n",
              "      display:flex;\n",
              "      flex-wrap:wrap;\n",
              "      gap: 12px;\n",
              "    }\n",
              "\n",
              "    .colab-df-convert {\n",
              "      background-color: #E8F0FE;\n",
              "      border: none;\n",
              "      border-radius: 50%;\n",
              "      cursor: pointer;\n",
              "      display: none;\n",
              "      fill: #1967D2;\n",
              "      height: 32px;\n",
              "      padding: 0 0 0 0;\n",
              "      width: 32px;\n",
              "    }\n",
              "\n",
              "    .colab-df-convert:hover {\n",
              "      background-color: #E2EBFA;\n",
              "      box-shadow: 0px 1px 2px rgba(60, 64, 67, 0.3), 0px 1px 3px 1px rgba(60, 64, 67, 0.15);\n",
              "      fill: #174EA6;\n",
              "    }\n",
              "\n",
              "    [theme=dark] .colab-df-convert {\n",
              "      background-color: #3B4455;\n",
              "      fill: #D2E3FC;\n",
              "    }\n",
              "\n",
              "    [theme=dark] .colab-df-convert:hover {\n",
              "      background-color: #434B5C;\n",
              "      box-shadow: 0px 1px 3px 1px rgba(0, 0, 0, 0.15);\n",
              "      filter: drop-shadow(0px 1px 2px rgba(0, 0, 0, 0.3));\n",
              "      fill: #FFFFFF;\n",
              "    }\n",
              "  </style>\n",
              "\n",
              "      <script>\n",
              "        const buttonEl =\n",
              "          document.querySelector('#df-1cf6c182-4dfb-413f-bfe4-052130f9c586 button.colab-df-convert');\n",
              "        buttonEl.style.display =\n",
              "          google.colab.kernel.accessAllowed ? 'block' : 'none';\n",
              "\n",
              "        async function convertToInteractive(key) {\n",
              "          const element = document.querySelector('#df-1cf6c182-4dfb-413f-bfe4-052130f9c586');\n",
              "          const dataTable =\n",
              "            await google.colab.kernel.invokeFunction('convertToInteractive',\n",
              "                                                     [key], {});\n",
              "          if (!dataTable) return;\n",
              "\n",
              "          const docLinkHtml = 'Like what you see? Visit the ' +\n",
              "            '<a target=\"_blank\" href=https://colab.research.google.com/notebooks/data_table.ipynb>data table notebook</a>'\n",
              "            + ' to learn more about interactive tables.';\n",
              "          element.innerHTML = '';\n",
              "          dataTable['output_type'] = 'display_data';\n",
              "          await google.colab.output.renderOutput(dataTable, element);\n",
              "          const docLink = document.createElement('div');\n",
              "          docLink.innerHTML = docLinkHtml;\n",
              "          element.appendChild(docLink);\n",
              "        }\n",
              "      </script>\n",
              "    </div>\n",
              "  </div>\n",
              "  "
            ]
          },
          "metadata": {},
          "execution_count": 82
        }
      ]
    },
    {
      "cell_type": "markdown",
      "source": [
        "**Paso 1.5**: Obtención de la serie historica simulada corregida."
      ],
      "metadata": {
        "id": "zW9w6Ht06mqA"
      }
    },
    {
      "cell_type": "code",
      "source": [
        "serie_hist_simulada, serie_hist_simulada_oob = pyla.get_historical_sim_data(comid, serie_hist_observada)\n",
        "serie_hist_simulada"
      ],
      "metadata": {
        "colab": {
          "base_uri": "https://localhost:8080/",
          "height": 472
        },
        "id": "FKY4JYfx2Jgg",
        "outputId": "cecedea3-47ba-4b60-f455-cd00c4fde9b4"
      },
      "execution_count": 83,
      "outputs": [
        {
          "output_type": "stream",
          "name": "stdout",
          "text": [
            "Function: get_historical_sim_data(), Delay: 8.568660259246826 seg.\n"
          ]
        },
        {
          "output_type": "execute_result",
          "data": {
            "text/plain": [
              "                 data\n",
              "date                 \n",
              "1979-01-02  37.648593\n",
              "1979-01-03  40.940914\n",
              "1979-01-04  40.350678\n",
              "1979-01-05  39.830330\n",
              "1979-01-06  40.114020\n",
              "...               ...\n",
              "2022-05-27  83.429283\n",
              "2022-05-28  70.772885\n",
              "2022-05-29  80.808829\n",
              "2022-05-30  80.325660\n",
              "2022-05-31  74.235287\n",
              "\n",
              "[15856 rows x 1 columns]"
            ],
            "text/html": [
              "\n",
              "  <div id=\"df-f120adf4-12f6-47e5-83fe-0bb820c6d161\">\n",
              "    <div class=\"colab-df-container\">\n",
              "      <div>\n",
              "<style scoped>\n",
              "    .dataframe tbody tr th:only-of-type {\n",
              "        vertical-align: middle;\n",
              "    }\n",
              "\n",
              "    .dataframe tbody tr th {\n",
              "        vertical-align: top;\n",
              "    }\n",
              "\n",
              "    .dataframe thead th {\n",
              "        text-align: right;\n",
              "    }\n",
              "</style>\n",
              "<table border=\"1\" class=\"dataframe\">\n",
              "  <thead>\n",
              "    <tr style=\"text-align: right;\">\n",
              "      <th></th>\n",
              "      <th>data</th>\n",
              "    </tr>\n",
              "    <tr>\n",
              "      <th>date</th>\n",
              "      <th></th>\n",
              "    </tr>\n",
              "  </thead>\n",
              "  <tbody>\n",
              "    <tr>\n",
              "      <th>1979-01-02</th>\n",
              "      <td>37.648593</td>\n",
              "    </tr>\n",
              "    <tr>\n",
              "      <th>1979-01-03</th>\n",
              "      <td>40.940914</td>\n",
              "    </tr>\n",
              "    <tr>\n",
              "      <th>1979-01-04</th>\n",
              "      <td>40.350678</td>\n",
              "    </tr>\n",
              "    <tr>\n",
              "      <th>1979-01-05</th>\n",
              "      <td>39.830330</td>\n",
              "    </tr>\n",
              "    <tr>\n",
              "      <th>1979-01-06</th>\n",
              "      <td>40.114020</td>\n",
              "    </tr>\n",
              "    <tr>\n",
              "      <th>...</th>\n",
              "      <td>...</td>\n",
              "    </tr>\n",
              "    <tr>\n",
              "      <th>2022-05-27</th>\n",
              "      <td>83.429283</td>\n",
              "    </tr>\n",
              "    <tr>\n",
              "      <th>2022-05-28</th>\n",
              "      <td>70.772885</td>\n",
              "    </tr>\n",
              "    <tr>\n",
              "      <th>2022-05-29</th>\n",
              "      <td>80.808829</td>\n",
              "    </tr>\n",
              "    <tr>\n",
              "      <th>2022-05-30</th>\n",
              "      <td>80.325660</td>\n",
              "    </tr>\n",
              "    <tr>\n",
              "      <th>2022-05-31</th>\n",
              "      <td>74.235287</td>\n",
              "    </tr>\n",
              "  </tbody>\n",
              "</table>\n",
              "<p>15856 rows × 1 columns</p>\n",
              "</div>\n",
              "      <button class=\"colab-df-convert\" onclick=\"convertToInteractive('df-f120adf4-12f6-47e5-83fe-0bb820c6d161')\"\n",
              "              title=\"Convert this dataframe to an interactive table.\"\n",
              "              style=\"display:none;\">\n",
              "        \n",
              "  <svg xmlns=\"http://www.w3.org/2000/svg\" height=\"24px\"viewBox=\"0 0 24 24\"\n",
              "       width=\"24px\">\n",
              "    <path d=\"M0 0h24v24H0V0z\" fill=\"none\"/>\n",
              "    <path d=\"M18.56 5.44l.94 2.06.94-2.06 2.06-.94-2.06-.94-.94-2.06-.94 2.06-2.06.94zm-11 1L8.5 8.5l.94-2.06 2.06-.94-2.06-.94L8.5 2.5l-.94 2.06-2.06.94zm10 10l.94 2.06.94-2.06 2.06-.94-2.06-.94-.94-2.06-.94 2.06-2.06.94z\"/><path d=\"M17.41 7.96l-1.37-1.37c-.4-.4-.92-.59-1.43-.59-.52 0-1.04.2-1.43.59L10.3 9.45l-7.72 7.72c-.78.78-.78 2.05 0 2.83L4 21.41c.39.39.9.59 1.41.59.51 0 1.02-.2 1.41-.59l7.78-7.78 2.81-2.81c.8-.78.8-2.07 0-2.86zM5.41 20L4 18.59l7.72-7.72 1.47 1.35L5.41 20z\"/>\n",
              "  </svg>\n",
              "      </button>\n",
              "      \n",
              "  <style>\n",
              "    .colab-df-container {\n",
              "      display:flex;\n",
              "      flex-wrap:wrap;\n",
              "      gap: 12px;\n",
              "    }\n",
              "\n",
              "    .colab-df-convert {\n",
              "      background-color: #E8F0FE;\n",
              "      border: none;\n",
              "      border-radius: 50%;\n",
              "      cursor: pointer;\n",
              "      display: none;\n",
              "      fill: #1967D2;\n",
              "      height: 32px;\n",
              "      padding: 0 0 0 0;\n",
              "      width: 32px;\n",
              "    }\n",
              "\n",
              "    .colab-df-convert:hover {\n",
              "      background-color: #E2EBFA;\n",
              "      box-shadow: 0px 1px 2px rgba(60, 64, 67, 0.3), 0px 1px 3px 1px rgba(60, 64, 67, 0.15);\n",
              "      fill: #174EA6;\n",
              "    }\n",
              "\n",
              "    [theme=dark] .colab-df-convert {\n",
              "      background-color: #3B4455;\n",
              "      fill: #D2E3FC;\n",
              "    }\n",
              "\n",
              "    [theme=dark] .colab-df-convert:hover {\n",
              "      background-color: #434B5C;\n",
              "      box-shadow: 0px 1px 3px 1px rgba(0, 0, 0, 0.15);\n",
              "      filter: drop-shadow(0px 1px 2px rgba(0, 0, 0, 0.3));\n",
              "      fill: #FFFFFF;\n",
              "    }\n",
              "  </style>\n",
              "\n",
              "      <script>\n",
              "        const buttonEl =\n",
              "          document.querySelector('#df-f120adf4-12f6-47e5-83fe-0bb820c6d161 button.colab-df-convert');\n",
              "        buttonEl.style.display =\n",
              "          google.colab.kernel.accessAllowed ? 'block' : 'none';\n",
              "\n",
              "        async function convertToInteractive(key) {\n",
              "          const element = document.querySelector('#df-f120adf4-12f6-47e5-83fe-0bb820c6d161');\n",
              "          const dataTable =\n",
              "            await google.colab.kernel.invokeFunction('convertToInteractive',\n",
              "                                                     [key], {});\n",
              "          if (!dataTable) return;\n",
              "\n",
              "          const docLinkHtml = 'Like what you see? Visit the ' +\n",
              "            '<a target=\"_blank\" href=https://colab.research.google.com/notebooks/data_table.ipynb>data table notebook</a>'\n",
              "            + ' to learn more about interactive tables.';\n",
              "          element.innerHTML = '';\n",
              "          dataTable['output_type'] = 'display_data';\n",
              "          await google.colab.output.renderOutput(dataTable, element);\n",
              "          const docLink = document.createElement('div');\n",
              "          docLink.innerHTML = docLinkHtml;\n",
              "          element.appendChild(docLink);\n",
              "        }\n",
              "      </script>\n",
              "    </div>\n",
              "  </div>\n",
              "  "
            ]
          },
          "metadata": {},
          "execution_count": 83
        }
      ]
    },
    {
      "cell_type": "markdown",
      "source": [
        "**Paso 1.6**: Obtención de los niveles de alerta del servidor FEWS."
      ],
      "metadata": {
        "id": "5EWvRuPC7_pK"
      }
    },
    {
      "cell_type": "code",
      "source": [
        "nivel_de_alerta_bajos_obs, nivel_de_alerta_bajos_obs_oob = pyla.get_alerta_minima_fews(codigo_estacion)\n",
        "nivel_de_alerta_bajos_obs"
      ],
      "metadata": {
        "colab": {
          "base_uri": "https://localhost:8080/"
        },
        "id": "nbyaKwEd6UeY",
        "outputId": "9c89c878-1a74-4ad5-8fe4-a1c1a780f50a"
      },
      "execution_count": 66,
      "outputs": [
        {
          "output_type": "stream",
          "name": "stdout",
          "text": [
            "Function: get_alerta_minima_fews(), Delay: 0.3186912536621094 seg.\n"
          ]
        },
        {
          "output_type": "execute_result",
          "data": {
            "text/plain": [
              "0.02"
            ]
          },
          "metadata": {},
          "execution_count": 66
        }
      ]
    },
    {
      "cell_type": "markdown",
      "source": [
        "**Paso 1.7**: Obtención de los datos de seccion transversal de la estación seleccionada."
      ],
      "metadata": {
        "id": "P_Q_pQ3Z8cG0"
      }
    },
    {
      "cell_type": "code",
      "source": [
        "perfil_del_rio, perfil_del_rio_oob = pyla.get_perfil_del_rio(estacion = codigo_estacion)\n",
        "perfil_del_rio"
      ],
      "metadata": {
        "colab": {
          "base_uri": "https://localhost:8080/",
          "height": 441
        },
        "id": "ThMMqadP6vVS",
        "outputId": "123efac5-69ea-4b53-c22f-59394c1e5fc4"
      },
      "execution_count": 75,
      "outputs": [
        {
          "output_type": "stream",
          "name": "stdout",
          "text": [
            "Function: get_perfil_del_rio(), Delay: 0.07553434371948242 seg.\n"
          ]
        },
        {
          "output_type": "execute_result",
          "data": {
            "text/plain": [
              "     ABSCISADO     COTA OBSERVACION  estacion       fecha\n",
              "0          0.0  793.060        P.R.  44037040  1995-07-07\n",
              "1          5.0  790.062         NaN  44037040  1995-07-07\n",
              "2          5.2  789.662         NaN  44037040  1995-07-07\n",
              "3          6.0  789.502         NaN  44037040  1995-07-07\n",
              "4          6.2  788.052         NaN  44037040  1995-07-07\n",
              "..         ...      ...         ...       ...         ...\n",
              "983       26.0  786.138        NAOD  44037040  2021-10-11\n",
              "984       27.1  786.821         NaN  44037040  2021-10-11\n",
              "985       27.1  787.763         NaN  44037040  2021-10-11\n",
              "986       27.1  791.211         PRD  44037040  2021-10-11\n",
              "987       27.1  791.198        S/BM  44037040  2021-10-11\n",
              "\n",
              "[988 rows x 5 columns]"
            ],
            "text/html": [
              "\n",
              "  <div id=\"df-0b79c919-a14c-466c-b059-9c5501bee2c9\">\n",
              "    <div class=\"colab-df-container\">\n",
              "      <div>\n",
              "<style scoped>\n",
              "    .dataframe tbody tr th:only-of-type {\n",
              "        vertical-align: middle;\n",
              "    }\n",
              "\n",
              "    .dataframe tbody tr th {\n",
              "        vertical-align: top;\n",
              "    }\n",
              "\n",
              "    .dataframe thead th {\n",
              "        text-align: right;\n",
              "    }\n",
              "</style>\n",
              "<table border=\"1\" class=\"dataframe\">\n",
              "  <thead>\n",
              "    <tr style=\"text-align: right;\">\n",
              "      <th></th>\n",
              "      <th>ABSCISADO</th>\n",
              "      <th>COTA</th>\n",
              "      <th>OBSERVACION</th>\n",
              "      <th>estacion</th>\n",
              "      <th>fecha</th>\n",
              "    </tr>\n",
              "  </thead>\n",
              "  <tbody>\n",
              "    <tr>\n",
              "      <th>0</th>\n",
              "      <td>0.0</td>\n",
              "      <td>793.060</td>\n",
              "      <td>P.R.</td>\n",
              "      <td>44037040</td>\n",
              "      <td>1995-07-07</td>\n",
              "    </tr>\n",
              "    <tr>\n",
              "      <th>1</th>\n",
              "      <td>5.0</td>\n",
              "      <td>790.062</td>\n",
              "      <td>NaN</td>\n",
              "      <td>44037040</td>\n",
              "      <td>1995-07-07</td>\n",
              "    </tr>\n",
              "    <tr>\n",
              "      <th>2</th>\n",
              "      <td>5.2</td>\n",
              "      <td>789.662</td>\n",
              "      <td>NaN</td>\n",
              "      <td>44037040</td>\n",
              "      <td>1995-07-07</td>\n",
              "    </tr>\n",
              "    <tr>\n",
              "      <th>3</th>\n",
              "      <td>6.0</td>\n",
              "      <td>789.502</td>\n",
              "      <td>NaN</td>\n",
              "      <td>44037040</td>\n",
              "      <td>1995-07-07</td>\n",
              "    </tr>\n",
              "    <tr>\n",
              "      <th>4</th>\n",
              "      <td>6.2</td>\n",
              "      <td>788.052</td>\n",
              "      <td>NaN</td>\n",
              "      <td>44037040</td>\n",
              "      <td>1995-07-07</td>\n",
              "    </tr>\n",
              "    <tr>\n",
              "      <th>...</th>\n",
              "      <td>...</td>\n",
              "      <td>...</td>\n",
              "      <td>...</td>\n",
              "      <td>...</td>\n",
              "      <td>...</td>\n",
              "    </tr>\n",
              "    <tr>\n",
              "      <th>983</th>\n",
              "      <td>26.0</td>\n",
              "      <td>786.138</td>\n",
              "      <td>NAOD</td>\n",
              "      <td>44037040</td>\n",
              "      <td>2021-10-11</td>\n",
              "    </tr>\n",
              "    <tr>\n",
              "      <th>984</th>\n",
              "      <td>27.1</td>\n",
              "      <td>786.821</td>\n",
              "      <td>NaN</td>\n",
              "      <td>44037040</td>\n",
              "      <td>2021-10-11</td>\n",
              "    </tr>\n",
              "    <tr>\n",
              "      <th>985</th>\n",
              "      <td>27.1</td>\n",
              "      <td>787.763</td>\n",
              "      <td>NaN</td>\n",
              "      <td>44037040</td>\n",
              "      <td>2021-10-11</td>\n",
              "    </tr>\n",
              "    <tr>\n",
              "      <th>986</th>\n",
              "      <td>27.1</td>\n",
              "      <td>791.211</td>\n",
              "      <td>PRD</td>\n",
              "      <td>44037040</td>\n",
              "      <td>2021-10-11</td>\n",
              "    </tr>\n",
              "    <tr>\n",
              "      <th>987</th>\n",
              "      <td>27.1</td>\n",
              "      <td>791.198</td>\n",
              "      <td>S/BM</td>\n",
              "      <td>44037040</td>\n",
              "      <td>2021-10-11</td>\n",
              "    </tr>\n",
              "  </tbody>\n",
              "</table>\n",
              "<p>988 rows × 5 columns</p>\n",
              "</div>\n",
              "      <button class=\"colab-df-convert\" onclick=\"convertToInteractive('df-0b79c919-a14c-466c-b059-9c5501bee2c9')\"\n",
              "              title=\"Convert this dataframe to an interactive table.\"\n",
              "              style=\"display:none;\">\n",
              "        \n",
              "  <svg xmlns=\"http://www.w3.org/2000/svg\" height=\"24px\"viewBox=\"0 0 24 24\"\n",
              "       width=\"24px\">\n",
              "    <path d=\"M0 0h24v24H0V0z\" fill=\"none\"/>\n",
              "    <path d=\"M18.56 5.44l.94 2.06.94-2.06 2.06-.94-2.06-.94-.94-2.06-.94 2.06-2.06.94zm-11 1L8.5 8.5l.94-2.06 2.06-.94-2.06-.94L8.5 2.5l-.94 2.06-2.06.94zm10 10l.94 2.06.94-2.06 2.06-.94-2.06-.94-.94-2.06-.94 2.06-2.06.94z\"/><path d=\"M17.41 7.96l-1.37-1.37c-.4-.4-.92-.59-1.43-.59-.52 0-1.04.2-1.43.59L10.3 9.45l-7.72 7.72c-.78.78-.78 2.05 0 2.83L4 21.41c.39.39.9.59 1.41.59.51 0 1.02-.2 1.41-.59l7.78-7.78 2.81-2.81c.8-.78.8-2.07 0-2.86zM5.41 20L4 18.59l7.72-7.72 1.47 1.35L5.41 20z\"/>\n",
              "  </svg>\n",
              "      </button>\n",
              "      \n",
              "  <style>\n",
              "    .colab-df-container {\n",
              "      display:flex;\n",
              "      flex-wrap:wrap;\n",
              "      gap: 12px;\n",
              "    }\n",
              "\n",
              "    .colab-df-convert {\n",
              "      background-color: #E8F0FE;\n",
              "      border: none;\n",
              "      border-radius: 50%;\n",
              "      cursor: pointer;\n",
              "      display: none;\n",
              "      fill: #1967D2;\n",
              "      height: 32px;\n",
              "      padding: 0 0 0 0;\n",
              "      width: 32px;\n",
              "    }\n",
              "\n",
              "    .colab-df-convert:hover {\n",
              "      background-color: #E2EBFA;\n",
              "      box-shadow: 0px 1px 2px rgba(60, 64, 67, 0.3), 0px 1px 3px 1px rgba(60, 64, 67, 0.15);\n",
              "      fill: #174EA6;\n",
              "    }\n",
              "\n",
              "    [theme=dark] .colab-df-convert {\n",
              "      background-color: #3B4455;\n",
              "      fill: #D2E3FC;\n",
              "    }\n",
              "\n",
              "    [theme=dark] .colab-df-convert:hover {\n",
              "      background-color: #434B5C;\n",
              "      box-shadow: 0px 1px 3px 1px rgba(0, 0, 0, 0.15);\n",
              "      filter: drop-shadow(0px 1px 2px rgba(0, 0, 0, 0.3));\n",
              "      fill: #FFFFFF;\n",
              "    }\n",
              "  </style>\n",
              "\n",
              "      <script>\n",
              "        const buttonEl =\n",
              "          document.querySelector('#df-0b79c919-a14c-466c-b059-9c5501bee2c9 button.colab-df-convert');\n",
              "        buttonEl.style.display =\n",
              "          google.colab.kernel.accessAllowed ? 'block' : 'none';\n",
              "\n",
              "        async function convertToInteractive(key) {\n",
              "          const element = document.querySelector('#df-0b79c919-a14c-466c-b059-9c5501bee2c9');\n",
              "          const dataTable =\n",
              "            await google.colab.kernel.invokeFunction('convertToInteractive',\n",
              "                                                     [key], {});\n",
              "          if (!dataTable) return;\n",
              "\n",
              "          const docLinkHtml = 'Like what you see? Visit the ' +\n",
              "            '<a target=\"_blank\" href=https://colab.research.google.com/notebooks/data_table.ipynb>data table notebook</a>'\n",
              "            + ' to learn more about interactive tables.';\n",
              "          element.innerHTML = '';\n",
              "          dataTable['output_type'] = 'display_data';\n",
              "          await google.colab.output.renderOutput(dataTable, element);\n",
              "          const docLink = document.createElement('div');\n",
              "          docLink.innerHTML = docLinkHtml;\n",
              "          element.appendChild(docLink);\n",
              "        }\n",
              "      </script>\n",
              "    </div>\n",
              "  </div>\n",
              "  "
            ]
          },
          "metadata": {},
          "execution_count": 75
        }
      ]
    },
    {
      "cell_type": "code",
      "source": [],
      "metadata": {
        "id": "1rKcXan69fec"
      },
      "execution_count": null,
      "outputs": []
    }
  ]
}