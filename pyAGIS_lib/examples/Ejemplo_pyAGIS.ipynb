{
 "cells": [
  {
   "cell_type": "markdown",
   "metadata": {
    "id": "W5cScWlTjaPt"
   },
   "source": [
    "## PYLA --- Ejemplo de uso ---\n",
    "En este archivo se presenta el ejemplo de ejecución de la herramienta desarrollada en el entorno de Google collaboratory."
   ]
  },
  {
   "cell_type": "code",
   "execution_count": 14,
   "metadata": {
    "colab": {
     "base_uri": "https://localhost:8080/"
    },
    "id": "lJPHXQE3xBbV",
    "outputId": "c4a1ccc3-3b5d-4747-da23-aac97914b9df"
   },
   "outputs": [
    {
     "name": "stdout",
     "output_type": "stream",
     "text": [
      "Requirement already satisfied: geoglows in c:\\users\\mrsao\\anaconda3\\envs\\ideamgglows\\lib\\site-packages (0.27.0)\n",
      "Requirement already satisfied: pandas in c:\\users\\mrsao\\anaconda3\\envs\\ideamgglows\\lib\\site-packages (from geoglows) (1.4.4)\n",
      "Requirement already satisfied: requests in c:\\users\\mrsao\\anaconda3\\envs\\ideamgglows\\lib\\site-packages (from geoglows) (2.28.1)\n",
      "Requirement already satisfied: numpy in c:\\users\\mrsao\\anaconda3\\envs\\ideamgglows\\lib\\site-packages (from geoglows) (1.22.4)\n",
      "Requirement already satisfied: plotly>=4.6 in c:\\users\\mrsao\\anaconda3\\envs\\ideamgglows\\lib\\site-packages (from geoglows) (5.10.0)\n",
      "Requirement already satisfied: shapely in c:\\users\\mrsao\\anaconda3\\envs\\ideamgglows\\lib\\site-packages (from geoglows) (1.8.4)\n",
      "Requirement already satisfied: HydroErr in c:\\users\\mrsao\\anaconda3\\envs\\ideamgglows\\lib\\site-packages (from geoglows) (1.24)\n",
      "Requirement already satisfied: scipy in c:\\users\\mrsao\\anaconda3\\envs\\ideamgglows\\lib\\site-packages (from geoglows) (1.6.2)\n",
      "Requirement already satisfied: hydrostats in c:\\users\\mrsao\\anaconda3\\envs\\ideamgglows\\lib\\site-packages (from geoglows) (0.78)\n",
      "Requirement already satisfied: jinja2 in c:\\users\\mrsao\\anaconda3\\envs\\ideamgglows\\lib\\site-packages (from geoglows) (3.1.2)\n",
      "Requirement already satisfied: tenacity>=6.2.0 in c:\\users\\mrsao\\anaconda3\\envs\\ideamgglows\\lib\\site-packages (from plotly>=4.6->geoglows) (8.0.1)\n",
      "Requirement already satisfied: matplotlib in c:\\users\\mrsao\\anaconda3\\envs\\ideamgglows\\lib\\site-packages (from hydrostats->geoglows) (3.5.2)\n",
      "Requirement already satisfied: numba in c:\\users\\mrsao\\anaconda3\\envs\\ideamgglows\\lib\\site-packages (from hydrostats->geoglows) (0.53.0)\n",
      "Requirement already satisfied: MarkupSafe>=2.0 in c:\\users\\mrsao\\anaconda3\\envs\\ideamgglows\\lib\\site-packages (from jinja2->geoglows) (2.1.1)\n",
      "Requirement already satisfied: pytz>=2020.1 in c:\\users\\mrsao\\anaconda3\\envs\\ideamgglows\\lib\\site-packages (from pandas->geoglows) (2022.2.1)\n",
      "Requirement already satisfied: python-dateutil>=2.8.1 in c:\\users\\mrsao\\anaconda3\\envs\\ideamgglows\\lib\\site-packages (from pandas->geoglows) (2.8.2)\n",
      "Requirement already satisfied: charset-normalizer<3,>=2 in c:\\users\\mrsao\\anaconda3\\envs\\ideamgglows\\lib\\site-packages (from requests->geoglows) (2.0.4)\n",
      "Requirement already satisfied: idna<4,>=2.5 in c:\\users\\mrsao\\anaconda3\\envs\\ideamgglows\\lib\\site-packages (from requests->geoglows) (3.3)\n",
      "Requirement already satisfied: certifi>=2017.4.17 in c:\\users\\mrsao\\anaconda3\\envs\\ideamgglows\\lib\\site-packages (from requests->geoglows) (2022.12.7)\n",
      "Requirement already satisfied: urllib3<1.27,>=1.21.1 in c:\\users\\mrsao\\anaconda3\\envs\\ideamgglows\\lib\\site-packages (from requests->geoglows) (1.26.11)\n",
      "Requirement already satisfied: six>=1.5 in c:\\users\\mrsao\\anaconda3\\envs\\ideamgglows\\lib\\site-packages (from python-dateutil>=2.8.1->pandas->geoglows) (1.16.0)\n",
      "Requirement already satisfied: kiwisolver>=1.0.1 in c:\\users\\mrsao\\anaconda3\\envs\\ideamgglows\\lib\\site-packages (from matplotlib->hydrostats->geoglows) (1.4.2)\n",
      "Requirement already satisfied: cycler>=0.10 in c:\\users\\mrsao\\anaconda3\\envs\\ideamgglows\\lib\\site-packages (from matplotlib->hydrostats->geoglows) (0.11.0)\n",
      "Requirement already satisfied: pyparsing>=2.2.1 in c:\\users\\mrsao\\anaconda3\\envs\\ideamgglows\\lib\\site-packages (from matplotlib->hydrostats->geoglows) (3.0.9)\n",
      "Requirement already satisfied: fonttools>=4.22.0 in c:\\users\\mrsao\\anaconda3\\envs\\ideamgglows\\lib\\site-packages (from matplotlib->hydrostats->geoglows) (4.25.0)\n",
      "Requirement already satisfied: pillow>=6.2.0 in c:\\users\\mrsao\\anaconda3\\envs\\ideamgglows\\lib\\site-packages (from matplotlib->hydrostats->geoglows) (9.2.0)\n",
      "Requirement already satisfied: packaging>=20.0 in c:\\users\\mrsao\\anaconda3\\envs\\ideamgglows\\lib\\site-packages (from matplotlib->hydrostats->geoglows) (21.3)\n",
      "Requirement already satisfied: llvmlite<0.37,>=0.36.0rc1 in c:\\users\\mrsao\\anaconda3\\envs\\ideamgglows\\lib\\site-packages (from numba->hydrostats->geoglows) (0.36.0)\n",
      "Requirement already satisfied: setuptools in c:\\users\\mrsao\\anaconda3\\envs\\ideamgglows\\lib\\site-packages (from numba->hydrostats->geoglows) (63.4.1)\n"
     ]
    },
    {
     "name": "stderr",
     "output_type": "stream",
     "text": [
      "Cloning into 'IDEAMGGlows'...\n"
     ]
    }
   ],
   "source": [
    "!pip install geoglows \n",
    "! git clone https://github.com/jhrodriguezch/IDEAMGGlows.git\n",
    "import sys\n",
    "sys.path.insert(1, './IDEAMGGlows/pyAGIS')"
   ]
  },
  {
   "cell_type": "markdown",
   "metadata": {
    "id": "VbCA5is27AGZ"
   },
   "source": [
    "**PASO 1** - Importar la herramienta desarrollada y los datos asociados. En el caso que se de un valor erroneo, se generara un resultado vacio."
   ]
  },
  {
   "cell_type": "code",
   "execution_count": 5,
   "metadata": {
    "id": "S137qc8u26Hh"
   },
   "outputs": [],
   "source": [
    "from sys import path\n",
    "path.insert(1, '__file__/../..')\n",
    "import pyAGIS"
   ]
  },
  {
   "cell_type": "markdown",
   "metadata": {
    "id": "2LWxPGxX5RJK"
   },
   "source": [
    "**Paso 1.1.** Actualizar los directorios en los cuales se encuentran las bases de datos. De la misma manera se pueden cambiar las variables mostradas, dependiendo de los servicios donde se encuentre esta información."
   ]
  },
  {
   "cell_type": "code",
   "execution_count": 8,
   "metadata": {
    "colab": {
     "base_uri": "https://localhost:8080/"
    },
    "id": "ZbmwuCng5bJM",
    "outputId": "ac13f785-7029-4917-fe26-8479c84f03e7"
   },
   "outputs": [
    {
     "data": {
      "text/plain": [
       "{'HYDROSHARE URL': 'https://www.hydroshare.org/resource/b0b5aaabd29c48bd8c5261c128f4762a/data/contents/',\n",
       " 'HYDROSHARE DATE COLUMN NAME': 'Datetime',\n",
       " 'HYDROSHARE FORMAT DATE': '%Y-%m-%d',\n",
       " 'FEWS URL ESTACIONES': 'http://fews.ideam.gov.co/colombia/data/ReporteTablaEstaciones.csv',\n",
       " 'FEWS COLUMN NAME ESTACIONES': 'id',\n",
       " 'FEWS URL SERIES': 'http://fews.ideam.gov.co/colombia/jsonH',\n",
       " 'GEOJSON FILE': '/content/IDEAMGGlows/pyla/static/IDEAM_Stations_v2.json',\n",
       " 'GEOJSON COLUMNS TO EXTRACT': ['new_COMID'],\n",
       " 'PROFILE DATABASE': '/content/IDEAMGGlows/pyla/static/profiles_db.json',\n",
       " 'UTC': 5,\n",
       " 'FOLDER FORECAST DATABASE': '.\\\\cache\\\\forecast'}"
      ]
     },
     "execution_count": 8,
     "metadata": {},
     "output_type": "execute_result"
    }
   ],
   "source": [
    "pyAGIS.const.CONST['GEOJSON FILE']     = r'/content/IDEAMGGlows/pyAGIS/static/IDEAM_Stations_v2.json'\n",
    "pyAGIS.const.CONST['PROFILE DATABASE'] = r'/content/IDEAMGGlows/pyAGIS/static/profiles_db.json'\n",
    "pyAGIS.const.CONST"
   ]
  },
  {
   "cell_type": "markdown",
   "metadata": {
    "id": "dbaqAW4V1bcK"
   },
   "source": [
    "**Paso 1.2** : Definir el código de estación a utilizar."
   ]
  },
  {
   "cell_type": "code",
   "execution_count": 9,
   "metadata": {
    "colab": {
     "base_uri": "https://localhost:8080/",
     "height": 35
    },
    "id": "glDwA0LQvlj3",
    "outputId": "8243f392-be16-4ad7-9833-4bb14d98c39b"
   },
   "outputs": [
    {
     "data": {
      "text/plain": [
       "'44037040'"
      ]
     },
     "execution_count": 9,
     "metadata": {},
     "output_type": "execute_result"
    }
   ],
   "source": [
    "codigo_estacion = '44037040'\n",
    "codigo_estacion"
   ]
  },
  {
   "cell_type": "markdown",
   "metadata": {
    "id": "bLOyRJ4E1yal"
   },
   "source": [
    "**Paso 1.3** : Obtener el comid del río asociado a la estación de trabajo"
   ]
  },
  {
   "cell_type": "code",
   "execution_count": 12,
   "metadata": {},
   "outputs": [
    {
     "data": {
      "text/plain": [
       "['Exteact_river_profile',\n",
       " 'Extract_data_from_json',\n",
       " 'Fews_data',\n",
       " 'Forecast_data',\n",
       " 'Historical_data',\n",
       " 'Historical_simulated_fixed_data',\n",
       " 'Main_values_from_serie',\n",
       " 'Monthly_minimum_plot',\n",
       " 'Return_periode_and_serie_analysis',\n",
       " '__builtins__',\n",
       " '__cached__',\n",
       " '__doc__',\n",
       " '__file__',\n",
       " '__loader__',\n",
       " '__name__',\n",
       " '__package__',\n",
       " '__path__',\n",
       " '__spec__',\n",
       " '__version__',\n",
       " 'const',\n",
       " 'data_analysis',\n",
       " 'data_download',\n",
       " 'data_plot',\n",
       " 'decorator_demora',\n",
       " 'decorator_print_demora',\n",
       " 'model',\n",
       " 'np',\n",
       " 'time',\n",
       " 'view']"
      ]
     },
     "execution_count": 12,
     "metadata": {},
     "output_type": "execute_result"
    }
   ],
   "source": [
    "dir(pyAGIS)"
   ]
  },
  {
   "cell_type": "code",
   "execution_count": 13,
   "metadata": {
    "colab": {
     "base_uri": "https://localhost:8080/",
     "height": 53
    },
    "id": "EsspoMMXxSed",
    "outputId": "3f5a60a1-f6d5-4123-cdf0-e8321bb30bb1"
   },
   "outputs": [
    {
     "ename": "FileNotFoundError",
     "evalue": "[Errno 2] No such file or directory: '/content/IDEAMGGlows/pyla/static/IDEAM_Stations_v2.json'",
     "output_type": "error",
     "traceback": [
      "\u001b[1;31m---------------------------------------------------------------------------\u001b[0m",
      "\u001b[1;31mFileNotFoundError\u001b[0m                         Traceback (most recent call last)",
      "Cell \u001b[1;32mIn [13], line 1\u001b[0m\n\u001b[1;32m----> 1\u001b[0m comid, comid_oob                  \u001b[38;5;241m=\u001b[39m \u001b[43mpyAGIS\u001b[49m\u001b[38;5;241;43m.\u001b[39;49m\u001b[43mdata_download\u001b[49m\u001b[38;5;241;43m.\u001b[39;49m\u001b[43mget_comit_from_station\u001b[49m\u001b[43m(\u001b[49m\u001b[43mID\u001b[49m\u001b[43m \u001b[49m\u001b[38;5;241;43m=\u001b[39;49m\u001b[43m \u001b[49m\u001b[43mcodigo_estacion\u001b[49m\u001b[43m)\u001b[49m\n\u001b[0;32m      2\u001b[0m comid\n",
      "File \u001b[1;32mD:\\IDEAM\\0_ejecucion\\4.scripts\\IDEAMGGlows\\pyAGIS_lib\\examples\\__file__/../..\\pyAGIS\\__init__.py:47\u001b[0m, in \u001b[0;36mdecorator_print_demora.<locals>.f\u001b[1;34m(*args, **kwards)\u001b[0m\n\u001b[0;32m     45\u001b[0m \u001b[38;5;28;01mdef\u001b[39;00m \u001b[38;5;21mf\u001b[39m(\u001b[38;5;241m*\u001b[39margs, \u001b[38;5;241m*\u001b[39m\u001b[38;5;241m*\u001b[39mkwards):\n\u001b[0;32m     46\u001b[0m     before \u001b[38;5;241m=\u001b[39m time\u001b[38;5;241m.\u001b[39mtime()\n\u001b[1;32m---> 47\u001b[0m     rv \u001b[38;5;241m=\u001b[39m fun(\u001b[38;5;241m*\u001b[39margs, \u001b[38;5;241m*\u001b[39m\u001b[38;5;241m*\u001b[39mkwards)\n\u001b[0;32m     48\u001b[0m     \u001b[38;5;28mprint\u001b[39m(\u001b[38;5;124mf\u001b[39m\u001b[38;5;124m'\u001b[39m\u001b[38;5;124mFunction: \u001b[39m\u001b[38;5;132;01m{\u001b[39;00mfun\u001b[38;5;241m.\u001b[39m\u001b[38;5;18m__name__\u001b[39m\u001b[38;5;132;01m}\u001b[39;00m\u001b[38;5;124m(), Delay: \u001b[39m\u001b[38;5;132;01m{\u001b[39;00mtime\u001b[38;5;241m.\u001b[39mtime()\u001b[38;5;241m-\u001b[39mbefore\u001b[38;5;132;01m}\u001b[39;00m\u001b[38;5;124m seg.\u001b[39m\u001b[38;5;124m'\u001b[39m)\n\u001b[0;32m     49\u001b[0m     \u001b[38;5;28;01mreturn\u001b[39;00m rv\n",
      "File \u001b[1;32mD:\\IDEAM\\0_ejecucion\\4.scripts\\IDEAMGGlows\\pyAGIS_lib\\examples\\__file__/../..\\pyAGIS\\__init__.py:90\u001b[0m, in \u001b[0;36mdata_download.get_comit_from_station\u001b[1;34m(*args, **kwards)\u001b[0m\n\u001b[0;32m     82\u001b[0m \u001b[38;5;129m@staticmethod\u001b[39m\n\u001b[0;32m     83\u001b[0m \u001b[38;5;129m@decorator_print_demora\u001b[39m\n\u001b[0;32m     84\u001b[0m \u001b[38;5;28;01mdef\u001b[39;00m \u001b[38;5;21mget_comit_from_station\u001b[39m(\u001b[38;5;241m*\u001b[39margs, \u001b[38;5;241m*\u001b[39m\u001b[38;5;241m*\u001b[39mkwards):\n\u001b[0;32m     85\u001b[0m     __time_test__ \u001b[38;5;241m=\u001b[39m \u001b[38;5;124m'''\u001b[39m\n\u001b[0;32m     86\u001b[0m \u001b[38;5;124m    Tiempo promedio de demora:\u001b[39m\n\u001b[0;32m     87\u001b[0m \u001b[38;5;124m    0.5479104804992676 s.\u001b[39m\n\u001b[0;32m     88\u001b[0m \u001b[38;5;124m    Número de intentos: 100\u001b[39m\n\u001b[0;32m     89\u001b[0m \u001b[38;5;124m    \u001b[39m\u001b[38;5;124m'''\u001b[39m\n\u001b[1;32m---> 90\u001b[0m     foo \u001b[38;5;241m=\u001b[39m \u001b[43mExtract_data_from_json\u001b[49m\u001b[43m(\u001b[49m\u001b[43mpath_dir\u001b[49m\u001b[38;5;241;43m=\u001b[39;49m\u001b[43mconst\u001b[49m\u001b[38;5;241;43m.\u001b[39;49m\u001b[43mCONST\u001b[49m\u001b[43m[\u001b[49m\u001b[38;5;124;43m'\u001b[39;49m\u001b[38;5;124;43mGEOJSON FILE\u001b[39;49m\u001b[38;5;124;43m'\u001b[39;49m\u001b[43m]\u001b[49m\u001b[43m)\u001b[49m\n\u001b[0;32m     91\u001b[0m     foo\u001b[38;5;241m.\u001b[39mset_column_to_extract(columns\u001b[38;5;241m=\u001b[39mconst\u001b[38;5;241m.\u001b[39mCONST[\u001b[38;5;124m'\u001b[39m\u001b[38;5;124mGEOJSON COLUMNS TO EXTRACT\u001b[39m\u001b[38;5;124m'\u001b[39m])\n\u001b[0;32m     92\u001b[0m     rv \u001b[38;5;241m=\u001b[39m foo(\u001b[38;5;241m*\u001b[39margs, \u001b[38;5;241m*\u001b[39m\u001b[38;5;241m*\u001b[39mkwards)\n",
      "File \u001b[1;32mD:\\IDEAM\\0_ejecucion\\4.scripts\\IDEAMGGlows\\pyAGIS_lib\\examples\\__file__/../..\\pyAGIS\\model\\geojson_data.py:9\u001b[0m, in \u001b[0;36mExtract_data_from_json.__init__\u001b[1;34m(self, path_dir)\u001b[0m\n\u001b[0;32m      7\u001b[0m \u001b[38;5;28;01mdef\u001b[39;00m \u001b[38;5;21m__init__\u001b[39m(\u001b[38;5;28mself\u001b[39m, path_dir):\n\u001b[0;32m      8\u001b[0m     \u001b[38;5;28mself\u001b[39m\u001b[38;5;241m.\u001b[39mset_json_path(path\u001b[38;5;241m=\u001b[39mpath_dir)\n\u001b[1;32m----> 9\u001b[0m     \u001b[38;5;28;43mself\u001b[39;49m\u001b[38;5;241;43m.\u001b[39;49m\u001b[43mset_json_file\u001b[49m\u001b[43m(\u001b[49m\u001b[43m)\u001b[49m\n\u001b[0;32m     10\u001b[0m     \u001b[38;5;28mself\u001b[39m\u001b[38;5;241m.\u001b[39mset_disp_columns()\n",
      "File \u001b[1;32mD:\\IDEAM\\0_ejecucion\\4.scripts\\IDEAMGGlows\\pyAGIS_lib\\examples\\__file__/../..\\pyAGIS\\model\\geojson_data.py:36\u001b[0m, in \u001b[0;36mExtract_data_from_json.set_json_file\u001b[1;34m(self)\u001b[0m\n\u001b[0;32m     35\u001b[0m \u001b[38;5;28;01mdef\u001b[39;00m \u001b[38;5;21mset_json_file\u001b[39m(\u001b[38;5;28mself\u001b[39m):\n\u001b[1;32m---> 36\u001b[0m     \u001b[38;5;28mself\u001b[39m\u001b[38;5;241m.\u001b[39mjson_file \u001b[38;5;241m=\u001b[39m \u001b[38;5;28;43mself\u001b[39;49m\u001b[38;5;241;43m.\u001b[39;49m\u001b[43m__gjson_load__\u001b[49m\u001b[43m(\u001b[49m\u001b[43mpath_file\u001b[49m\u001b[43m \u001b[49m\u001b[38;5;241;43m=\u001b[39;49m\u001b[43m \u001b[49m\u001b[38;5;28;43mself\u001b[39;49m\u001b[38;5;241;43m.\u001b[39;49m\u001b[43mjson_path\u001b[49m\u001b[43m)\u001b[49m\n",
      "File \u001b[1;32mD:\\IDEAM\\0_ejecucion\\4.scripts\\IDEAMGGlows\\pyAGIS_lib\\examples\\__file__/../..\\pyAGIS\\model\\geojson_data.py:68\u001b[0m, in \u001b[0;36mExtract_data_from_json.__gjson_load__\u001b[1;34m(path_file)\u001b[0m\n\u001b[0;32m     66\u001b[0m \u001b[38;5;129m@staticmethod\u001b[39m\n\u001b[0;32m     67\u001b[0m \u001b[38;5;28;01mdef\u001b[39;00m \u001b[38;5;21m__gjson_load__\u001b[39m(path_file):\n\u001b[1;32m---> 68\u001b[0m     data \u001b[38;5;241m=\u001b[39m json\u001b[38;5;241m.\u001b[39mload(\u001b[38;5;28;43mopen\u001b[39;49m\u001b[43m(\u001b[49m\u001b[43mpath_file\u001b[49m\u001b[43m)\u001b[49m)[\u001b[38;5;124m'\u001b[39m\u001b[38;5;124mfeatures\u001b[39m\u001b[38;5;124m'\u001b[39m]\n\u001b[0;32m     69\u001b[0m     df \u001b[38;5;241m=\u001b[39m pd\u001b[38;5;241m.\u001b[39mDataFrame()\n\u001b[0;32m     71\u001b[0m     \u001b[38;5;28;01mfor\u001b[39;00m line \u001b[38;5;129;01min\u001b[39;00m data:\n",
      "\u001b[1;31mFileNotFoundError\u001b[0m: [Errno 2] No such file or directory: '/content/IDEAMGGlows/pyla/static/IDEAM_Stations_v2.json'"
     ]
    }
   ],
   "source": [
    "comid, comid_oob                  = pyAGIS.data_download.get_comit_from_station(ID = codigo_estacion)\n",
    "comid"
   ]
  },
  {
   "cell_type": "markdown",
   "metadata": {
    "id": "-Vp6mxYm5_f3"
   },
   "source": [
    "**Paso 1.4**: Obtención de la serie histórica observada"
   ]
  },
  {
   "cell_type": "code",
   "execution_count": 82,
   "metadata": {
    "colab": {
     "base_uri": "https://localhost:8080/",
     "height": 472
    },
    "id": "_X0xxrs4xZdV",
    "outputId": "1c07cf08-e9f9-4b97-d8d7-f28ef31931a3"
   },
   "outputs": [
    {
     "name": "stdout",
     "output_type": "stream",
     "text": [
      "Function: get_historical_data(), Delay: 8.675215005874634 seg.\n"
     ]
    },
    {
     "data": {
      "text/html": [
       "\n",
       "  <div id=\"df-1cf6c182-4dfb-413f-bfe4-052130f9c586\">\n",
       "    <div class=\"colab-df-container\">\n",
       "      <div>\n",
       "<style scoped>\n",
       "    .dataframe tbody tr th:only-of-type {\n",
       "        vertical-align: middle;\n",
       "    }\n",
       "\n",
       "    .dataframe tbody tr th {\n",
       "        vertical-align: top;\n",
       "    }\n",
       "\n",
       "    .dataframe thead th {\n",
       "        text-align: right;\n",
       "    }\n",
       "</style>\n",
       "<table border=\"1\" class=\"dataframe\">\n",
       "  <thead>\n",
       "    <tr style=\"text-align: right;\">\n",
       "      <th></th>\n",
       "      <th>data</th>\n",
       "    </tr>\n",
       "    <tr>\n",
       "      <th>date</th>\n",
       "      <th></th>\n",
       "    </tr>\n",
       "  </thead>\n",
       "  <tbody>\n",
       "    <tr>\n",
       "      <th>1964-09-01</th>\n",
       "      <td>97.000</td>\n",
       "    </tr>\n",
       "    <tr>\n",
       "      <th>1964-09-02</th>\n",
       "      <td>94.000</td>\n",
       "    </tr>\n",
       "    <tr>\n",
       "      <th>1964-09-03</th>\n",
       "      <td>100.000</td>\n",
       "    </tr>\n",
       "    <tr>\n",
       "      <th>1964-09-04</th>\n",
       "      <td>116.000</td>\n",
       "    </tr>\n",
       "    <tr>\n",
       "      <th>1964-09-05</th>\n",
       "      <td>96.000</td>\n",
       "    </tr>\n",
       "    <tr>\n",
       "      <th>...</th>\n",
       "      <td>...</td>\n",
       "    </tr>\n",
       "    <tr>\n",
       "      <th>2021-09-26</th>\n",
       "      <td>18.125</td>\n",
       "    </tr>\n",
       "    <tr>\n",
       "      <th>2021-09-27</th>\n",
       "      <td>18.875</td>\n",
       "    </tr>\n",
       "    <tr>\n",
       "      <th>2021-09-28</th>\n",
       "      <td>19.125</td>\n",
       "    </tr>\n",
       "    <tr>\n",
       "      <th>2021-09-29</th>\n",
       "      <td>21.250</td>\n",
       "    </tr>\n",
       "    <tr>\n",
       "      <th>2021-09-30</th>\n",
       "      <td>35.000</td>\n",
       "    </tr>\n",
       "  </tbody>\n",
       "</table>\n",
       "<p>20849 rows × 1 columns</p>\n",
       "</div>\n",
       "      <button class=\"colab-df-convert\" onclick=\"convertToInteractive('df-1cf6c182-4dfb-413f-bfe4-052130f9c586')\"\n",
       "              title=\"Convert this dataframe to an interactive table.\"\n",
       "              style=\"display:none;\">\n",
       "        \n",
       "  <svg xmlns=\"http://www.w3.org/2000/svg\" height=\"24px\"viewBox=\"0 0 24 24\"\n",
       "       width=\"24px\">\n",
       "    <path d=\"M0 0h24v24H0V0z\" fill=\"none\"/>\n",
       "    <path d=\"M18.56 5.44l.94 2.06.94-2.06 2.06-.94-2.06-.94-.94-2.06-.94 2.06-2.06.94zm-11 1L8.5 8.5l.94-2.06 2.06-.94-2.06-.94L8.5 2.5l-.94 2.06-2.06.94zm10 10l.94 2.06.94-2.06 2.06-.94-2.06-.94-.94-2.06-.94 2.06-2.06.94z\"/><path d=\"M17.41 7.96l-1.37-1.37c-.4-.4-.92-.59-1.43-.59-.52 0-1.04.2-1.43.59L10.3 9.45l-7.72 7.72c-.78.78-.78 2.05 0 2.83L4 21.41c.39.39.9.59 1.41.59.51 0 1.02-.2 1.41-.59l7.78-7.78 2.81-2.81c.8-.78.8-2.07 0-2.86zM5.41 20L4 18.59l7.72-7.72 1.47 1.35L5.41 20z\"/>\n",
       "  </svg>\n",
       "      </button>\n",
       "      \n",
       "  <style>\n",
       "    .colab-df-container {\n",
       "      display:flex;\n",
       "      flex-wrap:wrap;\n",
       "      gap: 12px;\n",
       "    }\n",
       "\n",
       "    .colab-df-convert {\n",
       "      background-color: #E8F0FE;\n",
       "      border: none;\n",
       "      border-radius: 50%;\n",
       "      cursor: pointer;\n",
       "      display: none;\n",
       "      fill: #1967D2;\n",
       "      height: 32px;\n",
       "      padding: 0 0 0 0;\n",
       "      width: 32px;\n",
       "    }\n",
       "\n",
       "    .colab-df-convert:hover {\n",
       "      background-color: #E2EBFA;\n",
       "      box-shadow: 0px 1px 2px rgba(60, 64, 67, 0.3), 0px 1px 3px 1px rgba(60, 64, 67, 0.15);\n",
       "      fill: #174EA6;\n",
       "    }\n",
       "\n",
       "    [theme=dark] .colab-df-convert {\n",
       "      background-color: #3B4455;\n",
       "      fill: #D2E3FC;\n",
       "    }\n",
       "\n",
       "    [theme=dark] .colab-df-convert:hover {\n",
       "      background-color: #434B5C;\n",
       "      box-shadow: 0px 1px 3px 1px rgba(0, 0, 0, 0.15);\n",
       "      filter: drop-shadow(0px 1px 2px rgba(0, 0, 0, 0.3));\n",
       "      fill: #FFFFFF;\n",
       "    }\n",
       "  </style>\n",
       "\n",
       "      <script>\n",
       "        const buttonEl =\n",
       "          document.querySelector('#df-1cf6c182-4dfb-413f-bfe4-052130f9c586 button.colab-df-convert');\n",
       "        buttonEl.style.display =\n",
       "          google.colab.kernel.accessAllowed ? 'block' : 'none';\n",
       "\n",
       "        async function convertToInteractive(key) {\n",
       "          const element = document.querySelector('#df-1cf6c182-4dfb-413f-bfe4-052130f9c586');\n",
       "          const dataTable =\n",
       "            await google.colab.kernel.invokeFunction('convertToInteractive',\n",
       "                                                     [key], {});\n",
       "          if (!dataTable) return;\n",
       "\n",
       "          const docLinkHtml = 'Like what you see? Visit the ' +\n",
       "            '<a target=\"_blank\" href=https://colab.research.google.com/notebooks/data_table.ipynb>data table notebook</a>'\n",
       "            + ' to learn more about interactive tables.';\n",
       "          element.innerHTML = '';\n",
       "          dataTable['output_type'] = 'display_data';\n",
       "          await google.colab.output.renderOutput(dataTable, element);\n",
       "          const docLink = document.createElement('div');\n",
       "          docLink.innerHTML = docLinkHtml;\n",
       "          element.appendChild(docLink);\n",
       "        }\n",
       "      </script>\n",
       "    </div>\n",
       "  </div>\n",
       "  "
      ],
      "text/plain": [
       "               data\n",
       "date               \n",
       "1964-09-01   97.000\n",
       "1964-09-02   94.000\n",
       "1964-09-03  100.000\n",
       "1964-09-04  116.000\n",
       "1964-09-05   96.000\n",
       "...             ...\n",
       "2021-09-26   18.125\n",
       "2021-09-27   18.875\n",
       "2021-09-28   19.125\n",
       "2021-09-29   21.250\n",
       "2021-09-30   35.000\n",
       "\n",
       "[20849 rows x 1 columns]"
      ]
     },
     "execution_count": 82,
     "metadata": {},
     "output_type": "execute_result"
    }
   ],
   "source": [
    "serie_hist_observada, serie_hist_observada_oob = pyAGIS.get_historical_data(codigo_estacion)\n",
    "serie_hist_observada"
   ]
  },
  {
   "cell_type": "markdown",
   "metadata": {
    "id": "zW9w6Ht06mqA"
   },
   "source": [
    "**Paso 1.5**: Obtención de la serie historica simulada corregida."
   ]
  },
  {
   "cell_type": "code",
   "execution_count": 83,
   "metadata": {
    "colab": {
     "base_uri": "https://localhost:8080/",
     "height": 472
    },
    "id": "FKY4JYfx2Jgg",
    "outputId": "cecedea3-47ba-4b60-f455-cd00c4fde9b4"
   },
   "outputs": [
    {
     "name": "stdout",
     "output_type": "stream",
     "text": [
      "Function: get_historical_sim_data(), Delay: 8.568660259246826 seg.\n"
     ]
    },
    {
     "data": {
      "text/html": [
       "\n",
       "  <div id=\"df-f120adf4-12f6-47e5-83fe-0bb820c6d161\">\n",
       "    <div class=\"colab-df-container\">\n",
       "      <div>\n",
       "<style scoped>\n",
       "    .dataframe tbody tr th:only-of-type {\n",
       "        vertical-align: middle;\n",
       "    }\n",
       "\n",
       "    .dataframe tbody tr th {\n",
       "        vertical-align: top;\n",
       "    }\n",
       "\n",
       "    .dataframe thead th {\n",
       "        text-align: right;\n",
       "    }\n",
       "</style>\n",
       "<table border=\"1\" class=\"dataframe\">\n",
       "  <thead>\n",
       "    <tr style=\"text-align: right;\">\n",
       "      <th></th>\n",
       "      <th>data</th>\n",
       "    </tr>\n",
       "    <tr>\n",
       "      <th>date</th>\n",
       "      <th></th>\n",
       "    </tr>\n",
       "  </thead>\n",
       "  <tbody>\n",
       "    <tr>\n",
       "      <th>1979-01-02</th>\n",
       "      <td>37.648593</td>\n",
       "    </tr>\n",
       "    <tr>\n",
       "      <th>1979-01-03</th>\n",
       "      <td>40.940914</td>\n",
       "    </tr>\n",
       "    <tr>\n",
       "      <th>1979-01-04</th>\n",
       "      <td>40.350678</td>\n",
       "    </tr>\n",
       "    <tr>\n",
       "      <th>1979-01-05</th>\n",
       "      <td>39.830330</td>\n",
       "    </tr>\n",
       "    <tr>\n",
       "      <th>1979-01-06</th>\n",
       "      <td>40.114020</td>\n",
       "    </tr>\n",
       "    <tr>\n",
       "      <th>...</th>\n",
       "      <td>...</td>\n",
       "    </tr>\n",
       "    <tr>\n",
       "      <th>2022-05-27</th>\n",
       "      <td>83.429283</td>\n",
       "    </tr>\n",
       "    <tr>\n",
       "      <th>2022-05-28</th>\n",
       "      <td>70.772885</td>\n",
       "    </tr>\n",
       "    <tr>\n",
       "      <th>2022-05-29</th>\n",
       "      <td>80.808829</td>\n",
       "    </tr>\n",
       "    <tr>\n",
       "      <th>2022-05-30</th>\n",
       "      <td>80.325660</td>\n",
       "    </tr>\n",
       "    <tr>\n",
       "      <th>2022-05-31</th>\n",
       "      <td>74.235287</td>\n",
       "    </tr>\n",
       "  </tbody>\n",
       "</table>\n",
       "<p>15856 rows × 1 columns</p>\n",
       "</div>\n",
       "      <button class=\"colab-df-convert\" onclick=\"convertToInteractive('df-f120adf4-12f6-47e5-83fe-0bb820c6d161')\"\n",
       "              title=\"Convert this dataframe to an interactive table.\"\n",
       "              style=\"display:none;\">\n",
       "        \n",
       "  <svg xmlns=\"http://www.w3.org/2000/svg\" height=\"24px\"viewBox=\"0 0 24 24\"\n",
       "       width=\"24px\">\n",
       "    <path d=\"M0 0h24v24H0V0z\" fill=\"none\"/>\n",
       "    <path d=\"M18.56 5.44l.94 2.06.94-2.06 2.06-.94-2.06-.94-.94-2.06-.94 2.06-2.06.94zm-11 1L8.5 8.5l.94-2.06 2.06-.94-2.06-.94L8.5 2.5l-.94 2.06-2.06.94zm10 10l.94 2.06.94-2.06 2.06-.94-2.06-.94-.94-2.06-.94 2.06-2.06.94z\"/><path d=\"M17.41 7.96l-1.37-1.37c-.4-.4-.92-.59-1.43-.59-.52 0-1.04.2-1.43.59L10.3 9.45l-7.72 7.72c-.78.78-.78 2.05 0 2.83L4 21.41c.39.39.9.59 1.41.59.51 0 1.02-.2 1.41-.59l7.78-7.78 2.81-2.81c.8-.78.8-2.07 0-2.86zM5.41 20L4 18.59l7.72-7.72 1.47 1.35L5.41 20z\"/>\n",
       "  </svg>\n",
       "      </button>\n",
       "      \n",
       "  <style>\n",
       "    .colab-df-container {\n",
       "      display:flex;\n",
       "      flex-wrap:wrap;\n",
       "      gap: 12px;\n",
       "    }\n",
       "\n",
       "    .colab-df-convert {\n",
       "      background-color: #E8F0FE;\n",
       "      border: none;\n",
       "      border-radius: 50%;\n",
       "      cursor: pointer;\n",
       "      display: none;\n",
       "      fill: #1967D2;\n",
       "      height: 32px;\n",
       "      padding: 0 0 0 0;\n",
       "      width: 32px;\n",
       "    }\n",
       "\n",
       "    .colab-df-convert:hover {\n",
       "      background-color: #E2EBFA;\n",
       "      box-shadow: 0px 1px 2px rgba(60, 64, 67, 0.3), 0px 1px 3px 1px rgba(60, 64, 67, 0.15);\n",
       "      fill: #174EA6;\n",
       "    }\n",
       "\n",
       "    [theme=dark] .colab-df-convert {\n",
       "      background-color: #3B4455;\n",
       "      fill: #D2E3FC;\n",
       "    }\n",
       "\n",
       "    [theme=dark] .colab-df-convert:hover {\n",
       "      background-color: #434B5C;\n",
       "      box-shadow: 0px 1px 3px 1px rgba(0, 0, 0, 0.15);\n",
       "      filter: drop-shadow(0px 1px 2px rgba(0, 0, 0, 0.3));\n",
       "      fill: #FFFFFF;\n",
       "    }\n",
       "  </style>\n",
       "\n",
       "      <script>\n",
       "        const buttonEl =\n",
       "          document.querySelector('#df-f120adf4-12f6-47e5-83fe-0bb820c6d161 button.colab-df-convert');\n",
       "        buttonEl.style.display =\n",
       "          google.colab.kernel.accessAllowed ? 'block' : 'none';\n",
       "\n",
       "        async function convertToInteractive(key) {\n",
       "          const element = document.querySelector('#df-f120adf4-12f6-47e5-83fe-0bb820c6d161');\n",
       "          const dataTable =\n",
       "            await google.colab.kernel.invokeFunction('convertToInteractive',\n",
       "                                                     [key], {});\n",
       "          if (!dataTable) return;\n",
       "\n",
       "          const docLinkHtml = 'Like what you see? Visit the ' +\n",
       "            '<a target=\"_blank\" href=https://colab.research.google.com/notebooks/data_table.ipynb>data table notebook</a>'\n",
       "            + ' to learn more about interactive tables.';\n",
       "          element.innerHTML = '';\n",
       "          dataTable['output_type'] = 'display_data';\n",
       "          await google.colab.output.renderOutput(dataTable, element);\n",
       "          const docLink = document.createElement('div');\n",
       "          docLink.innerHTML = docLinkHtml;\n",
       "          element.appendChild(docLink);\n",
       "        }\n",
       "      </script>\n",
       "    </div>\n",
       "  </div>\n",
       "  "
      ],
      "text/plain": [
       "                 data\n",
       "date                 \n",
       "1979-01-02  37.648593\n",
       "1979-01-03  40.940914\n",
       "1979-01-04  40.350678\n",
       "1979-01-05  39.830330\n",
       "1979-01-06  40.114020\n",
       "...               ...\n",
       "2022-05-27  83.429283\n",
       "2022-05-28  70.772885\n",
       "2022-05-29  80.808829\n",
       "2022-05-30  80.325660\n",
       "2022-05-31  74.235287\n",
       "\n",
       "[15856 rows x 1 columns]"
      ]
     },
     "execution_count": 83,
     "metadata": {},
     "output_type": "execute_result"
    }
   ],
   "source": [
    "serie_hist_simulada, serie_hist_simulada_oob = pyAGIS.get_historical_sim_data(comid, serie_hist_observada)\n",
    "serie_hist_simulada"
   ]
  },
  {
   "cell_type": "markdown",
   "metadata": {
    "id": "5EWvRuPC7_pK"
   },
   "source": [
    "**Paso 1.6**: Obtención de los niveles de alerta del servidor FEWS."
   ]
  },
  {
   "cell_type": "code",
   "execution_count": 66,
   "metadata": {
    "colab": {
     "base_uri": "https://localhost:8080/"
    },
    "id": "nbyaKwEd6UeY",
    "outputId": "9c89c878-1a74-4ad5-8fe4-a1c1a780f50a"
   },
   "outputs": [
    {
     "name": "stdout",
     "output_type": "stream",
     "text": [
      "Function: get_alerta_minima_fews(), Delay: 0.3186912536621094 seg.\n"
     ]
    },
    {
     "data": {
      "text/plain": [
       "0.02"
      ]
     },
     "execution_count": 66,
     "metadata": {},
     "output_type": "execute_result"
    }
   ],
   "source": [
    "nivel_de_alerta_bajos_obs, nivel_de_alerta_bajos_obs_oob = pyAGIS.get_alerta_minima_fews(codigo_estacion)\n",
    "nivel_de_alerta_bajos_obs"
   ]
  },
  {
   "cell_type": "markdown",
   "metadata": {
    "id": "P_Q_pQ3Z8cG0"
   },
   "source": [
    "**Paso 1.7**: Obtención de los datos de seccion transversal de la estación seleccionada."
   ]
  },
  {
   "cell_type": "code",
   "execution_count": 75,
   "metadata": {
    "colab": {
     "base_uri": "https://localhost:8080/",
     "height": 441
    },
    "id": "ThMMqadP6vVS",
    "outputId": "123efac5-69ea-4b53-c22f-59394c1e5fc4"
   },
   "outputs": [
    {
     "name": "stdout",
     "output_type": "stream",
     "text": [
      "Function: get_perfil_del_rio(), Delay: 0.07553434371948242 seg.\n"
     ]
    },
    {
     "data": {
      "text/html": [
       "\n",
       "  <div id=\"df-0b79c919-a14c-466c-b059-9c5501bee2c9\">\n",
       "    <div class=\"colab-df-container\">\n",
       "      <div>\n",
       "<style scoped>\n",
       "    .dataframe tbody tr th:only-of-type {\n",
       "        vertical-align: middle;\n",
       "    }\n",
       "\n",
       "    .dataframe tbody tr th {\n",
       "        vertical-align: top;\n",
       "    }\n",
       "\n",
       "    .dataframe thead th {\n",
       "        text-align: right;\n",
       "    }\n",
       "</style>\n",
       "<table border=\"1\" class=\"dataframe\">\n",
       "  <thead>\n",
       "    <tr style=\"text-align: right;\">\n",
       "      <th></th>\n",
       "      <th>ABSCISADO</th>\n",
       "      <th>COTA</th>\n",
       "      <th>OBSERVACION</th>\n",
       "      <th>estacion</th>\n",
       "      <th>fecha</th>\n",
       "    </tr>\n",
       "  </thead>\n",
       "  <tbody>\n",
       "    <tr>\n",
       "      <th>0</th>\n",
       "      <td>0.0</td>\n",
       "      <td>793.060</td>\n",
       "      <td>P.R.</td>\n",
       "      <td>44037040</td>\n",
       "      <td>1995-07-07</td>\n",
       "    </tr>\n",
       "    <tr>\n",
       "      <th>1</th>\n",
       "      <td>5.0</td>\n",
       "      <td>790.062</td>\n",
       "      <td>NaN</td>\n",
       "      <td>44037040</td>\n",
       "      <td>1995-07-07</td>\n",
       "    </tr>\n",
       "    <tr>\n",
       "      <th>2</th>\n",
       "      <td>5.2</td>\n",
       "      <td>789.662</td>\n",
       "      <td>NaN</td>\n",
       "      <td>44037040</td>\n",
       "      <td>1995-07-07</td>\n",
       "    </tr>\n",
       "    <tr>\n",
       "      <th>3</th>\n",
       "      <td>6.0</td>\n",
       "      <td>789.502</td>\n",
       "      <td>NaN</td>\n",
       "      <td>44037040</td>\n",
       "      <td>1995-07-07</td>\n",
       "    </tr>\n",
       "    <tr>\n",
       "      <th>4</th>\n",
       "      <td>6.2</td>\n",
       "      <td>788.052</td>\n",
       "      <td>NaN</td>\n",
       "      <td>44037040</td>\n",
       "      <td>1995-07-07</td>\n",
       "    </tr>\n",
       "    <tr>\n",
       "      <th>...</th>\n",
       "      <td>...</td>\n",
       "      <td>...</td>\n",
       "      <td>...</td>\n",
       "      <td>...</td>\n",
       "      <td>...</td>\n",
       "    </tr>\n",
       "    <tr>\n",
       "      <th>983</th>\n",
       "      <td>26.0</td>\n",
       "      <td>786.138</td>\n",
       "      <td>NAOD</td>\n",
       "      <td>44037040</td>\n",
       "      <td>2021-10-11</td>\n",
       "    </tr>\n",
       "    <tr>\n",
       "      <th>984</th>\n",
       "      <td>27.1</td>\n",
       "      <td>786.821</td>\n",
       "      <td>NaN</td>\n",
       "      <td>44037040</td>\n",
       "      <td>2021-10-11</td>\n",
       "    </tr>\n",
       "    <tr>\n",
       "      <th>985</th>\n",
       "      <td>27.1</td>\n",
       "      <td>787.763</td>\n",
       "      <td>NaN</td>\n",
       "      <td>44037040</td>\n",
       "      <td>2021-10-11</td>\n",
       "    </tr>\n",
       "    <tr>\n",
       "      <th>986</th>\n",
       "      <td>27.1</td>\n",
       "      <td>791.211</td>\n",
       "      <td>PRD</td>\n",
       "      <td>44037040</td>\n",
       "      <td>2021-10-11</td>\n",
       "    </tr>\n",
       "    <tr>\n",
       "      <th>987</th>\n",
       "      <td>27.1</td>\n",
       "      <td>791.198</td>\n",
       "      <td>S/BM</td>\n",
       "      <td>44037040</td>\n",
       "      <td>2021-10-11</td>\n",
       "    </tr>\n",
       "  </tbody>\n",
       "</table>\n",
       "<p>988 rows × 5 columns</p>\n",
       "</div>\n",
       "      <button class=\"colab-df-convert\" onclick=\"convertToInteractive('df-0b79c919-a14c-466c-b059-9c5501bee2c9')\"\n",
       "              title=\"Convert this dataframe to an interactive table.\"\n",
       "              style=\"display:none;\">\n",
       "        \n",
       "  <svg xmlns=\"http://www.w3.org/2000/svg\" height=\"24px\"viewBox=\"0 0 24 24\"\n",
       "       width=\"24px\">\n",
       "    <path d=\"M0 0h24v24H0V0z\" fill=\"none\"/>\n",
       "    <path d=\"M18.56 5.44l.94 2.06.94-2.06 2.06-.94-2.06-.94-.94-2.06-.94 2.06-2.06.94zm-11 1L8.5 8.5l.94-2.06 2.06-.94-2.06-.94L8.5 2.5l-.94 2.06-2.06.94zm10 10l.94 2.06.94-2.06 2.06-.94-2.06-.94-.94-2.06-.94 2.06-2.06.94z\"/><path d=\"M17.41 7.96l-1.37-1.37c-.4-.4-.92-.59-1.43-.59-.52 0-1.04.2-1.43.59L10.3 9.45l-7.72 7.72c-.78.78-.78 2.05 0 2.83L4 21.41c.39.39.9.59 1.41.59.51 0 1.02-.2 1.41-.59l7.78-7.78 2.81-2.81c.8-.78.8-2.07 0-2.86zM5.41 20L4 18.59l7.72-7.72 1.47 1.35L5.41 20z\"/>\n",
       "  </svg>\n",
       "      </button>\n",
       "      \n",
       "  <style>\n",
       "    .colab-df-container {\n",
       "      display:flex;\n",
       "      flex-wrap:wrap;\n",
       "      gap: 12px;\n",
       "    }\n",
       "\n",
       "    .colab-df-convert {\n",
       "      background-color: #E8F0FE;\n",
       "      border: none;\n",
       "      border-radius: 50%;\n",
       "      cursor: pointer;\n",
       "      display: none;\n",
       "      fill: #1967D2;\n",
       "      height: 32px;\n",
       "      padding: 0 0 0 0;\n",
       "      width: 32px;\n",
       "    }\n",
       "\n",
       "    .colab-df-convert:hover {\n",
       "      background-color: #E2EBFA;\n",
       "      box-shadow: 0px 1px 2px rgba(60, 64, 67, 0.3), 0px 1px 3px 1px rgba(60, 64, 67, 0.15);\n",
       "      fill: #174EA6;\n",
       "    }\n",
       "\n",
       "    [theme=dark] .colab-df-convert {\n",
       "      background-color: #3B4455;\n",
       "      fill: #D2E3FC;\n",
       "    }\n",
       "\n",
       "    [theme=dark] .colab-df-convert:hover {\n",
       "      background-color: #434B5C;\n",
       "      box-shadow: 0px 1px 3px 1px rgba(0, 0, 0, 0.15);\n",
       "      filter: drop-shadow(0px 1px 2px rgba(0, 0, 0, 0.3));\n",
       "      fill: #FFFFFF;\n",
       "    }\n",
       "  </style>\n",
       "\n",
       "      <script>\n",
       "        const buttonEl =\n",
       "          document.querySelector('#df-0b79c919-a14c-466c-b059-9c5501bee2c9 button.colab-df-convert');\n",
       "        buttonEl.style.display =\n",
       "          google.colab.kernel.accessAllowed ? 'block' : 'none';\n",
       "\n",
       "        async function convertToInteractive(key) {\n",
       "          const element = document.querySelector('#df-0b79c919-a14c-466c-b059-9c5501bee2c9');\n",
       "          const dataTable =\n",
       "            await google.colab.kernel.invokeFunction('convertToInteractive',\n",
       "                                                     [key], {});\n",
       "          if (!dataTable) return;\n",
       "\n",
       "          const docLinkHtml = 'Like what you see? Visit the ' +\n",
       "            '<a target=\"_blank\" href=https://colab.research.google.com/notebooks/data_table.ipynb>data table notebook</a>'\n",
       "            + ' to learn more about interactive tables.';\n",
       "          element.innerHTML = '';\n",
       "          dataTable['output_type'] = 'display_data';\n",
       "          await google.colab.output.renderOutput(dataTable, element);\n",
       "          const docLink = document.createElement('div');\n",
       "          docLink.innerHTML = docLinkHtml;\n",
       "          element.appendChild(docLink);\n",
       "        }\n",
       "      </script>\n",
       "    </div>\n",
       "  </div>\n",
       "  "
      ],
      "text/plain": [
       "     ABSCISADO     COTA OBSERVACION  estacion       fecha\n",
       "0          0.0  793.060        P.R.  44037040  1995-07-07\n",
       "1          5.0  790.062         NaN  44037040  1995-07-07\n",
       "2          5.2  789.662         NaN  44037040  1995-07-07\n",
       "3          6.0  789.502         NaN  44037040  1995-07-07\n",
       "4          6.2  788.052         NaN  44037040  1995-07-07\n",
       "..         ...      ...         ...       ...         ...\n",
       "983       26.0  786.138        NAOD  44037040  2021-10-11\n",
       "984       27.1  786.821         NaN  44037040  2021-10-11\n",
       "985       27.1  787.763         NaN  44037040  2021-10-11\n",
       "986       27.1  791.211         PRD  44037040  2021-10-11\n",
       "987       27.1  791.198        S/BM  44037040  2021-10-11\n",
       "\n",
       "[988 rows x 5 columns]"
      ]
     },
     "execution_count": 75,
     "metadata": {},
     "output_type": "execute_result"
    }
   ],
   "source": [
    "perfil_del_rio, perfil_del_rio_oob = pyAGIS.get_perfil_del_rio(estacion = codigo_estacion)\n",
    "perfil_del_rio"
   ]
  },
  {
   "cell_type": "code",
   "execution_count": null,
   "metadata": {
    "id": "1rKcXan69fec"
   },
   "outputs": [],
   "source": []
  }
 ],
 "metadata": {
  "colab": {
   "provenance": []
  },
  "kernelspec": {
   "display_name": "Python 3 (ipykernel)",
   "language": "python",
   "name": "python3"
  },
  "language_info": {
   "codemirror_mode": {
    "name": "ipython",
    "version": 3
   },
   "file_extension": ".py",
   "mimetype": "text/x-python",
   "name": "python",
   "nbconvert_exporter": "python",
   "pygments_lexer": "ipython3",
   "version": "3.9.7"
  },
  "vscode": {
   "interpreter": {
    "hash": "85e21e66b76193662c8f8d9b2e936076c83117164afd90d367a44cef4142df03"
   }
  }
 },
 "nbformat": 4,
 "nbformat_minor": 1
}
