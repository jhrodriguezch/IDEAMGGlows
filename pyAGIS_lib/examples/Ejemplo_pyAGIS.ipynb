{
 "cells": [
  {
   "cell_type": "markdown",
   "metadata": {
    "id": "W5cScWlTjaPt"
   },
   "source": [
    "## PYLA --- Ejemplo de uso ---\n",
    "En este archivo se presenta el ejemplo de ejecución de la herramienta desarrollada en el entorno de Google collaboratory."
   ]
  },
  {
   "cell_type": "code",
   "execution_count": null,
   "metadata": {
    "colab": {
     "base_uri": "https://localhost:8080/"
    },
    "id": "lJPHXQE3xBbV",
    "outputId": "c4a1ccc3-3b5d-4747-da23-aac97914b9df"
   },
   "outputs": [],
   "source": [
    "!pip install geoglows \n",
    "!git clone https://github.com/jhrodriguezch/IDEAMGGlows.git\n",
    "import sys\n",
    "sys.path.insert(1, './IDEAMGGlows/pyAGIS_lib')"
   ]
  },
  {
   "cell_type": "markdown",
   "metadata": {
    "id": "VbCA5is27AGZ"
   },
   "source": [
    "**PASO 1** - Importar la herramienta desarrollada y los datos asociados. En el caso que se de un valor erroneo, se generara un resultado vacio."
   ]
  },
  {
   "cell_type": "code",
   "execution_count": null,
   "metadata": {
    "id": "S137qc8u26Hh"
   },
   "outputs": [],
   "source": [
    "import pyAGIS"
   ]
  },
  {
   "cell_type": "markdown",
   "metadata": {
    "id": "2LWxPGxX5RJK"
   },
   "source": [
    "**Paso 1.1.** Actualizar los directorios en los cuales se encuentran las bases de datos. De la misma manera se pueden cambiar las variables mostradas, dependiendo de los servicios donde se encuentre esta información."
   ]
  },
  {
   "cell_type": "code",
   "execution_count": null,
   "metadata": {
    "colab": {
     "base_uri": "https://localhost:8080/"
    },
    "id": "ZbmwuCng5bJM",
    "outputId": "ac13f785-7029-4917-fe26-8479c84f03e7"
   },
   "outputs": [],
   "source": [
    "pyAGIS.const.CONST['GEOJSON FILE']     = r'/content/IDEAMGGlows/pyAGIS_lib/static/IDEAM_Stations_v2.json'\n",
    "pyAGIS.const.CONST['PROFILE DATABASE'] = r'/content/IDEAMGGlows/pyAGIS_lib/static/profiles_db.json'\n",
    "pyAGIS.const.CONST"
   ]
  },
  {
   "cell_type": "markdown",
   "metadata": {
    "id": "dbaqAW4V1bcK"
   },
   "source": [
    "**Paso 1.2** : Definir el código de estación a utilizar."
   ]
  },
  {
   "cell_type": "code",
   "execution_count": null,
   "metadata": {
    "colab": {
     "base_uri": "https://localhost:8080/",
     "height": 35
    },
    "id": "glDwA0LQvlj3",
    "outputId": "8243f392-be16-4ad7-9833-4bb14d98c39b"
   },
   "outputs": [],
   "source": [
    "codigo_estacion = '44037040'\n",
    "codigo_estacion"
   ]
  },
  {
   "cell_type": "markdown",
   "metadata": {
    "id": "bLOyRJ4E1yal"
   },
   "source": [
    "**Paso 1.3** : Obtener el comid del río asociado a la estación de trabajo"
   ]
  },
  {
   "cell_type": "code",
   "execution_count": null,
   "metadata": {
    "colab": {
     "base_uri": "https://localhost:8080/",
     "height": 53
    },
    "id": "EsspoMMXxSed",
    "outputId": "3f5a60a1-f6d5-4123-cdf0-e8321bb30bb1"
   },
   "outputs": [],
   "source": [
    "comid, comid_oob                  = pyAGIS.data_download.get_comit_from_station(ID = codigo_estacion)\n",
    "comid"
   ]
  },
  {
   "cell_type": "markdown",
   "metadata": {
    "id": "-Vp6mxYm5_f3"
   },
   "source": [
    "**Paso 1.4**: Obtención de la serie histórica observada"
   ]
  },
  {
   "cell_type": "code",
   "execution_count": null,
   "metadata": {
    "colab": {
     "base_uri": "https://localhost:8080/",
     "height": 472
    },
    "id": "_X0xxrs4xZdV",
    "outputId": "1c07cf08-e9f9-4b97-d8d7-f28ef31931a3"
   },
   "outputs": [],
   "source": [
    "serie_hist_observada, serie_hist_observada_oob = pyAGIS.data_download.get_historical_data(codigo_estacion)\n",
    "serie_hist_observada"
   ]
  },
  {
   "cell_type": "markdown",
   "metadata": {
    "id": "zW9w6Ht06mqA"
   },
   "source": [
    "**Paso 1.5**: Obtención de la serie historica simulada corregida."
   ]
  },
  {
   "cell_type": "code",
   "execution_count": null,
   "metadata": {
    "colab": {
     "base_uri": "https://localhost:8080/",
     "height": 472
    },
    "id": "FKY4JYfx2Jgg",
    "outputId": "cecedea3-47ba-4b60-f455-cd00c4fde9b4"
   },
   "outputs": [],
   "source": [
    "serie_hist_simulada, serie_hist_simulada_oob = pyAGIS.data_download.get_historical_sim_data(comid, serie_hist_observada)\n",
    "serie_hist_simulada"
   ]
  },
  {
   "cell_type": "markdown",
   "metadata": {
    "id": "5EWvRuPC7_pK"
   },
   "source": [
    "**Paso 1.6**: Obtención de los niveles de alerta del servidor FEWS."
   ]
  },
  {
   "cell_type": "code",
   "execution_count": null,
   "metadata": {
    "colab": {
     "base_uri": "https://localhost:8080/"
    },
    "id": "nbyaKwEd6UeY",
    "outputId": "9c89c878-1a74-4ad5-8fe4-a1c1a780f50a"
   },
   "outputs": [],
   "source": [
    "nivel_de_alerta_bajos_obs, nivel_de_alerta_bajos_obs_oob = pyAGIS.data_download.get_alerta_minima_fews(codigo_estacion)\n",
    "nivel_de_alerta_bajos_obs"
   ]
  },
  {
   "cell_type": "markdown",
   "metadata": {
    "id": "P_Q_pQ3Z8cG0"
   },
   "source": [
    "**Paso 1.7**: Obtención de los datos de seccion transversal de la estación seleccionada."
   ]
  },
  {
   "cell_type": "code",
   "execution_count": null,
   "metadata": {
    "colab": {
     "base_uri": "https://localhost:8080/",
     "height": 441
    },
    "id": "ThMMqadP6vVS",
    "outputId": "123efac5-69ea-4b53-c22f-59394c1e5fc4"
   },
   "outputs": [],
   "source": [
    "perfil_del_rio, perfil_del_rio_oob = pyAGIS.data_download.get_perfil_del_rio(estacion = codigo_estacion)\n",
    "perfil_del_rio"
   ]
  },
  {
   "cell_type": "code",
   "execution_count": null,
   "metadata": {
    "id": "1rKcXan69fec"
   },
   "outputs": [],
   "source": []
  }
 ],
 "metadata": {
  "colab": {
   "provenance": []
  },
  "kernelspec": {
   "display_name": "Python 3 (ipykernel)",
   "language": "python",
   "name": "python3"
  },
  "language_info": {
   "codemirror_mode": {
    "name": "ipython",
    "version": 3
   },
   "file_extension": ".py",
   "mimetype": "text/x-python",
   "name": "python",
   "nbconvert_exporter": "python",
   "pygments_lexer": "ipython3",
   "version": "3.9.12"
  },
  "vscode": {
   "interpreter": {
    "hash": "85e21e66b76193662c8f8d9b2e936076c83117164afd90d367a44cef4142df03"
   }
  }
 },
 "nbformat": 4,
 "nbformat_minor": 1
}
