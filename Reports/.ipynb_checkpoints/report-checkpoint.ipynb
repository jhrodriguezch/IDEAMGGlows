{
 "cells": [
  {
   "cell_type": "code",
   "execution_count": 6,
   "id": "680b0925",
   "metadata": {},
   "outputs": [],
   "source": [
    "import pandas as pd\n",
    "import numpy as np\n",
    "import matplotlib.pyplot as plt"
   ]
  },
  {
   "cell_type": "markdown",
   "id": "429fb0aa",
   "metadata": {},
   "source": [
    "<h2 style=\"text-align: center\">Reporte avance - IDEAM - CIAT</h2>\n",
    "<h6>Contratista: Ing. Jhonatan Rodriguez Chaves</h6>"
   ]
  },
  {
   "cell_type": "markdown",
   "id": "212e6205",
   "metadata": {},
   "source": [
    "<b>Objeto del contrato: </b>\n",
    "<p>Evaluar la herramienta GEOGloWS ECMWF Streamflow\n",
    "Services (GESS) para pronóstico hidrológico, desarrollar\n",
    "análisis para aplicaciones de alertas tempranas de\n",
    "inundación y por navegación con recomendaciones para uso\n",
    "operacional en el Ideam, en cuencas de la Amazonia y otras\n",
    "priorizadas para Colombia.</p>"
   ]
  },
  {
   "cell_type": "markdown",
   "id": "8d595d65",
   "metadata": {},
   "source": [
    "<b>Actividades:</b>\n",
    "<ol>\n",
    "    <li>Evaluación del desempeño del pronóstico de GEOGloWS ECMWF en las cuencas definidas y evaluación de las ventajas, limitaciones y alcance de su aplicación para generación de alertas tempranas por inundaciones y su articulación con las actividades relacionadas del Ideam.</li>\n",
    "    <li>Comparación de estadísticos básicos de las series originales o con corrección por sesgo de GEOGloWS ECMWF con las series históricas disponibles en las estaciones del Ideam para las cuencas y tramos definidos.</li>\n",
    "    <li>Comparación de estadísticos básicos de las series originales o con corrección por sesgo de GEOGloWS ECMWF con las series históricas disponibles en las estaciones del Ideam para las cuencas y tramos definidos.</li>\n",
    "    <li>Propuesta de generación de alertas tempranas por caudales y/o niveles bajos para efectos de navegación en los tramos definidos en los Ríos Meta y Arauca</li>\n",
    "    <li>Revisión de curvas de gasto y relaciones nivel caudal en los tramos de navegación fluvial asignados</li>\n",
    "    <li>Documentar las ventajas y limitaciones para pronóstico hidrológico operacional de la herramienta GEOGloWS ECMWF para corto plazo y pronóstico subestacional (7 a 15 días) en los tramos y ríos asignados como insumo a la subdirección de hidrología y a la oficina de pronósticos y alertas del IDEAM.</li>\n",
    "    <li>Evaluar la oportunidad en la ocurrencia de alertas por inundación de la herramienta GEOGloWS ECMWF independientemente de la correspondencia en magnitud de los pronósticos para los tramos y ríos asignados</li>\n",
    "    <li>Identificar y relacionar los COMID de los tramos más representativos de las corrientes asignadas.</li>\n",
    "    <li>Documentar herramientas para el uso de los productos de GEOGloWS ECMWF e Hydroviewer por parte de hidrólogos que prestan en servicio de alertas en el Ideam.</li>\n",
    "    <li>Implementar una metodología automatizada para evaluar el desempeño de los pronósticos del modelo hidrológico global GEOGloWS ECMWF Streamflow Services en eventos altos de caudales.</li>\n",
    "    <li>Implementar una metodología automatizada para producir alertas de inundación de caudales y/o niveles para los pronósticos de caudales y/o niveles corregidos por sesgo del modelo hidrológico global GEOGloWS ECMWF Streamflow Services</li>\n",
    "</ol>"
   ]
  },
  {
   "cell_type": "code",
   "execution_count": 3,
   "id": "215762ad",
   "metadata": {},
   "outputs": [],
   "source": [
    "avance_mensual = [0,#1\n",
    "                  0,#2\n",
    "                  0,#3\n",
    "                  0,#4\n",
    "                  50,#5\n",
    "                  0,#6\n",
    "                  0,#7\n",
    "                  10,#8\n",
    "                  0,#9\n",
    "                  10,#10\n",
    "                  10,#11\n",
    "                 ]\n",
    "anavance_hoy   = [0,#1\n",
    "                  0,#2\n",
    "                  0,#3\n",
    "                  0,#4\n",
    "                  50,#5\n",
    "                  0,#6\n",
    "                  0,#7\n",
    "                  90,#8\n",
    "                  0,#9\n",
    "                  40,#10\n",
    "                  40,#11\n",
    "                 ]"
   ]
  },
  {
   "cell_type": "code",
   "execution_count": 10,
   "id": "3007eb9b",
   "metadata": {},
   "outputs": [
    {
     "data": {
      "text/plain": [
       "[]"
      ]
     },
     "execution_count": 10,
     "metadata": {},
     "output_type": "execute_result"
    },
    {
     "data": {
      "image/png": "[encoded data removed]",
      "text/plain": [
       "<Figure size 432x288 with 2 Axes>"
      ]
     },
     "metadata": {
      "needs_background": "light"
     },
     "output_type": "display_data"
    }
   ],
   "source": [
    "# Grafica de avance\n",
    "fig, ax = plt.subplots(1, 2)\n",
    "ax[0].scatter([1,2], [1,2])\n",
    "ax[1].scatter([1,2], [1,2])\n",
    "plt.plot()"
   ]
  },
  {
   "cell_type": "code",
   "execution_count": null,
   "id": "7a021fdf",
   "metadata": {},
   "outputs": [],
   "source": []
  }
 ],
 "metadata": {
  "kernelspec": {
   "display_name": "Python 3 (ipykernel)",
   "language": "python",
   "name": "python3"
  },
  "language_info": {
   "codemirror_mode": {
    "name": "ipython",
    "version": 3
   },
   "file_extension": ".py",
   "mimetype": "text/x-python",
   "name": "python",
   "nbconvert_exporter": "python",
   "pygments_lexer": "ipython3",
   "version": "3.9.7"
  }
 },
 "nbformat": 4,
 "nbformat_minor": 5
}
